{
 "cells": [
  {
   "cell_type": "markdown",
   "metadata": {},
   "source": [
    "# Etapas que componen el proyecto\n",
    "\n",
    "## Priorización de hipótesis\n",
    "En esta etapa se realizará la revisión y priorización de las hipótesis de trabajo planteadas por medio de las metodologías RICE y ICE, con el fin de seleccionar las que se consideren más relevantes y asi mismo, generar conclusiones parciales al respecto\n",
    "\n",
    "## Análisis del Test A/B\n",
    "Después de haber priorizado las hipótesis de trabajo, se procederá a cargar, corregir y explorar los datos relacionados con el Test A/B para posteriormente realizar un análisis detallado que conduzca a determinar, con base en el desempeño de los grupos, cuál es la recomendación sobre el futuro de la prueba\n",
    "\n",
    "### Carga y preparación de datos\n",
    "### Análisis\n",
    "\n",
    "## Conclusiones generales\n",
    "---------------\n",
    "\n",
    "# Descripción de los datos\n",
    "- **Tabla Hypothesis** (Tabla con calificaciones para los distintos parámetros de priorización):\n",
    "\n",
    "    - **Hypotheses**: breves descripciones de las hipótesis\n",
    "    \n",
    "    - **Reach**: alcance del usuario, en una escala del uno a diez\n",
    "    \n",
    "    - **Impact**: impacto en los usuarios, en una escala del uno al diez\n",
    "    \n",
    "    - **Confidence**: confianza en la hipótesis, en una escala del uno al diez\n",
    "    \n",
    "    - **Effort**: los recursos necesarios para probar una hipótesis, en una escala del uno al diez. Cuanto mayor sea el valor Effort, más recursos requiere la prueba.\n",
    "    \n",
    "\n",
    "- **Tabla Orders** (Datos sobre pedidos):\n",
    "\n",
    "    - **transactionId**: identificador de pedido\n",
    "\n",
    "    - **visitorId**: identificador del usuario que realizó el pedido\n",
    "\n",
    "    - **date**: fecha del pedido\n",
    "\n",
    "    - **revenue**: ingresos del pedido\n",
    "\n",
    "    - **group**: grupo del test A/B al que pertenece el usuario\n",
    "\n",
    "\n",
    "- **Tabla Visits** (Registros del servidor con datos sobre las visitas por grupo):\n",
    "\n",
    "    - **date**: fecha de visita\n",
    "\n",
    "    - **group**: grupo de la prueba A/B\n",
    "\n",
    "    - **visits**: el número de visitas en la fecha especificada en el grupo de pruebas A/B especificado\n",
    "    \n",
    "--------------"
   ]
  },
  {
   "cell_type": "markdown",
   "metadata": {},
   "source": [
    "# 1. Priorización de hipótesis"
   ]
  },
  {
   "cell_type": "code",
   "execution_count": 1,
   "metadata": {},
   "outputs": [],
   "source": [
    "# Importación de librerias\n",
    "\n",
    "import pandas as pd\n",
    "import matplotlib.pyplot as plt\n",
    "import scipy.stats as st\n",
    "import numpy as np\n",
    "import math"
   ]
  },
  {
   "cell_type": "code",
   "execution_count": 2,
   "metadata": {},
   "outputs": [
    {
     "name": "stdout",
     "output_type": "stream",
     "text": [
      "<class 'pandas.core.frame.DataFrame'>\n",
      "RangeIndex: 9 entries, 0 to 8\n",
      "Data columns (total 5 columns):\n",
      " #   Column      Non-Null Count  Dtype \n",
      "---  ------      --------------  ----- \n",
      " 0   Hypothesis  9 non-null      object\n",
      " 1   Reach       9 non-null      int64 \n",
      " 2   Impact      9 non-null      int64 \n",
      " 3   Confidence  9 non-null      int64 \n",
      " 4   Effort      9 non-null      int64 \n",
      "dtypes: int64(4), object(1)\n",
      "memory usage: 488.0+ bytes\n",
      "None\n"
     ]
    },
    {
     "data": {
      "text/html": [
       "<div>\n",
       "<style scoped>\n",
       "    .dataframe tbody tr th:only-of-type {\n",
       "        vertical-align: middle;\n",
       "    }\n",
       "\n",
       "    .dataframe tbody tr th {\n",
       "        vertical-align: top;\n",
       "    }\n",
       "\n",
       "    .dataframe thead th {\n",
       "        text-align: right;\n",
       "    }\n",
       "</style>\n",
       "<table border=\"1\" class=\"dataframe\">\n",
       "  <thead>\n",
       "    <tr style=\"text-align: right;\">\n",
       "      <th></th>\n",
       "      <th>Hypothesis</th>\n",
       "      <th>Reach</th>\n",
       "      <th>Impact</th>\n",
       "      <th>Confidence</th>\n",
       "      <th>Effort</th>\n",
       "    </tr>\n",
       "  </thead>\n",
       "  <tbody>\n",
       "    <tr>\n",
       "      <th>0</th>\n",
       "      <td>Add two new channels for attracting traffic. T...</td>\n",
       "      <td>3</td>\n",
       "      <td>10</td>\n",
       "      <td>8</td>\n",
       "      <td>6</td>\n",
       "    </tr>\n",
       "    <tr>\n",
       "      <th>1</th>\n",
       "      <td>Launch your own delivery service. This will sh...</td>\n",
       "      <td>2</td>\n",
       "      <td>5</td>\n",
       "      <td>4</td>\n",
       "      <td>10</td>\n",
       "    </tr>\n",
       "    <tr>\n",
       "      <th>2</th>\n",
       "      <td>Add product recommendation blocks to the store...</td>\n",
       "      <td>8</td>\n",
       "      <td>3</td>\n",
       "      <td>7</td>\n",
       "      <td>3</td>\n",
       "    </tr>\n",
       "    <tr>\n",
       "      <th>3</th>\n",
       "      <td>Change the category structure. This will incre...</td>\n",
       "      <td>8</td>\n",
       "      <td>3</td>\n",
       "      <td>3</td>\n",
       "      <td>8</td>\n",
       "    </tr>\n",
       "    <tr>\n",
       "      <th>4</th>\n",
       "      <td>Change the background color on the main page. ...</td>\n",
       "      <td>3</td>\n",
       "      <td>1</td>\n",
       "      <td>1</td>\n",
       "      <td>1</td>\n",
       "    </tr>\n",
       "  </tbody>\n",
       "</table>\n",
       "</div>"
      ],
      "text/plain": [
       "                                          Hypothesis  Reach  Impact  \\\n",
       "0  Add two new channels for attracting traffic. T...      3      10   \n",
       "1  Launch your own delivery service. This will sh...      2       5   \n",
       "2  Add product recommendation blocks to the store...      8       3   \n",
       "3  Change the category structure. This will incre...      8       3   \n",
       "4  Change the background color on the main page. ...      3       1   \n",
       "\n",
       "   Confidence  Effort  \n",
       "0           8       6  \n",
       "1           4      10  \n",
       "2           7       3  \n",
       "3           3       8  \n",
       "4           1       1  "
      ]
     },
     "metadata": {},
     "output_type": "display_data"
    }
   ],
   "source": [
    "# Carga de datos de hipótesis\n",
    "\n",
    "hypotheses = pd.read_csv('/datasets/hypotheses_us.csv', sep=\";\")\n",
    "print(hypotheses.info())\n",
    "display(hypotheses.head())"
   ]
  },
  {
   "cell_type": "code",
   "execution_count": 3,
   "metadata": {},
   "outputs": [
    {
     "data": {
      "text/html": [
       "<div>\n",
       "<style scoped>\n",
       "    .dataframe tbody tr th:only-of-type {\n",
       "        vertical-align: middle;\n",
       "    }\n",
       "\n",
       "    .dataframe tbody tr th {\n",
       "        vertical-align: top;\n",
       "    }\n",
       "\n",
       "    .dataframe thead th {\n",
       "        text-align: right;\n",
       "    }\n",
       "</style>\n",
       "<table border=\"1\" class=\"dataframe\">\n",
       "  <thead>\n",
       "    <tr style=\"text-align: right;\">\n",
       "      <th></th>\n",
       "      <th>Hypothesis</th>\n",
       "      <th>ICE</th>\n",
       "    </tr>\n",
       "  </thead>\n",
       "  <tbody>\n",
       "    <tr>\n",
       "      <th>0</th>\n",
       "      <td>Add two new channels for attracting traffic. T...</td>\n",
       "      <td>13.33</td>\n",
       "    </tr>\n",
       "    <tr>\n",
       "      <th>2</th>\n",
       "      <td>Add product recommendation blocks to the store...</td>\n",
       "      <td>7.00</td>\n",
       "    </tr>\n",
       "    <tr>\n",
       "      <th>1</th>\n",
       "      <td>Launch your own delivery service. This will sh...</td>\n",
       "      <td>2.00</td>\n",
       "    </tr>\n",
       "    <tr>\n",
       "      <th>3</th>\n",
       "      <td>Change the category structure. This will incre...</td>\n",
       "      <td>1.12</td>\n",
       "    </tr>\n",
       "    <tr>\n",
       "      <th>4</th>\n",
       "      <td>Change the background color on the main page. ...</td>\n",
       "      <td>1.00</td>\n",
       "    </tr>\n",
       "  </tbody>\n",
       "</table>\n",
       "</div>"
      ],
      "text/plain": [
       "                                          Hypothesis    ICE\n",
       "0  Add two new channels for attracting traffic. T...  13.33\n",
       "2  Add product recommendation blocks to the store...   7.00\n",
       "1  Launch your own delivery service. This will sh...   2.00\n",
       "3  Change the category structure. This will incre...   1.12\n",
       "4  Change the background color on the main page. ...   1.00"
      ]
     },
     "metadata": {},
     "output_type": "display_data"
    },
    {
     "data": {
      "text/html": [
       "<div>\n",
       "<style scoped>\n",
       "    .dataframe tbody tr th:only-of-type {\n",
       "        vertical-align: middle;\n",
       "    }\n",
       "\n",
       "    .dataframe tbody tr th {\n",
       "        vertical-align: top;\n",
       "    }\n",
       "\n",
       "    .dataframe thead th {\n",
       "        text-align: right;\n",
       "    }\n",
       "</style>\n",
       "<table border=\"1\" class=\"dataframe\">\n",
       "  <thead>\n",
       "    <tr style=\"text-align: right;\">\n",
       "      <th></th>\n",
       "      <th>Hypothesis</th>\n",
       "      <th>RICE</th>\n",
       "    </tr>\n",
       "  </thead>\n",
       "  <tbody>\n",
       "    <tr>\n",
       "      <th>2</th>\n",
       "      <td>Add product recommendation blocks to the store...</td>\n",
       "      <td>56.0</td>\n",
       "    </tr>\n",
       "    <tr>\n",
       "      <th>0</th>\n",
       "      <td>Add two new channels for attracting traffic. T...</td>\n",
       "      <td>40.0</td>\n",
       "    </tr>\n",
       "    <tr>\n",
       "      <th>3</th>\n",
       "      <td>Change the category structure. This will incre...</td>\n",
       "      <td>9.0</td>\n",
       "    </tr>\n",
       "    <tr>\n",
       "      <th>1</th>\n",
       "      <td>Launch your own delivery service. This will sh...</td>\n",
       "      <td>4.0</td>\n",
       "    </tr>\n",
       "    <tr>\n",
       "      <th>4</th>\n",
       "      <td>Change the background color on the main page. ...</td>\n",
       "      <td>3.0</td>\n",
       "    </tr>\n",
       "  </tbody>\n",
       "</table>\n",
       "</div>"
      ],
      "text/plain": [
       "                                          Hypothesis  RICE\n",
       "2  Add product recommendation blocks to the store...  56.0\n",
       "0  Add two new channels for attracting traffic. T...  40.0\n",
       "3  Change the category structure. This will incre...   9.0\n",
       "1  Launch your own delivery service. This will sh...   4.0\n",
       "4  Change the background color on the main page. ...   3.0"
      ]
     },
     "metadata": {},
     "output_type": "display_data"
    }
   ],
   "source": [
    "# Priorización de hipótesis\n",
    "\n",
    "hypotheses['ICE'] = round(hypotheses['Impact']*hypotheses['Confidence']/hypotheses['Effort'],2)\n",
    "hypotheses['RICE'] = round(hypotheses['Impact']*hypotheses['Confidence']*hypotheses['Reach']/hypotheses['Effort'],2)\n",
    "\n",
    "# Priorización mediante metodología ICE\n",
    "ICE = hypotheses[['Hypothesis','ICE']]\n",
    "display(ICE.head().sort_values(by=['ICE'], ascending = False))\n",
    "\n",
    "# Priorización mediante metodología RICE\n",
    "RICE = hypotheses[['Hypothesis','RICE']]\n",
    "display(RICE.head().sort_values(by=['RICE'], ascending = False))"
   ]
  },
  {
   "cell_type": "markdown",
   "metadata": {},
   "source": [
    "Comentarios:\n",
    "1. Luego de aplicar ambas metodologías de priorización, se puede observar que las hipótesis 0 a 4 se mantienen entre las 5 más relevantes\n",
    "2. En comparación con las demás, las hipótesis 0 y 2 son las que se mantienen en las dos primeras posiciones de prioridad\n",
    "3. Los cambios de resultados entre ambas metodologías se deben a la presencia del alcance estimado que se espera lograr con los cambios propuestos. En el caso de la hipótesis 2, el alcance esperado es de más del doble que el de la hipótesis 0, razón por la cuál se convierte en la hipótesis más relevante según la metodología RICE\n",
    "------"
   ]
  },
  {
   "cell_type": "markdown",
   "metadata": {},
   "source": [
    "# 2. Análisis del test A/B"
   ]
  },
  {
   "cell_type": "markdown",
   "metadata": {},
   "source": [
    "# 2.1 Carga y preparación de datos"
   ]
  },
  {
   "cell_type": "code",
   "execution_count": 4,
   "metadata": {},
   "outputs": [
    {
     "name": "stdout",
     "output_type": "stream",
     "text": [
      "<class 'pandas.core.frame.DataFrame'>\n",
      "RangeIndex: 1197 entries, 0 to 1196\n",
      "Data columns (total 5 columns):\n",
      " #   Column         Non-Null Count  Dtype  \n",
      "---  ------         --------------  -----  \n",
      " 0   transactionId  1197 non-null   int64  \n",
      " 1   visitorId      1197 non-null   int64  \n",
      " 2   date           1197 non-null   object \n",
      " 3   revenue        1197 non-null   float64\n",
      " 4   group          1197 non-null   object \n",
      "dtypes: float64(1), int64(2), object(2)\n",
      "memory usage: 46.9+ KB\n",
      "None\n"
     ]
    },
    {
     "data": {
      "text/html": [
       "<div>\n",
       "<style scoped>\n",
       "    .dataframe tbody tr th:only-of-type {\n",
       "        vertical-align: middle;\n",
       "    }\n",
       "\n",
       "    .dataframe tbody tr th {\n",
       "        vertical-align: top;\n",
       "    }\n",
       "\n",
       "    .dataframe thead th {\n",
       "        text-align: right;\n",
       "    }\n",
       "</style>\n",
       "<table border=\"1\" class=\"dataframe\">\n",
       "  <thead>\n",
       "    <tr style=\"text-align: right;\">\n",
       "      <th></th>\n",
       "      <th>transactionId</th>\n",
       "      <th>visitorId</th>\n",
       "      <th>date</th>\n",
       "      <th>revenue</th>\n",
       "      <th>group</th>\n",
       "    </tr>\n",
       "  </thead>\n",
       "  <tbody>\n",
       "    <tr>\n",
       "      <th>0</th>\n",
       "      <td>3667963787</td>\n",
       "      <td>3312258926</td>\n",
       "      <td>2019-08-15</td>\n",
       "      <td>30.4</td>\n",
       "      <td>B</td>\n",
       "    </tr>\n",
       "    <tr>\n",
       "      <th>1</th>\n",
       "      <td>2804400009</td>\n",
       "      <td>3642806036</td>\n",
       "      <td>2019-08-15</td>\n",
       "      <td>15.2</td>\n",
       "      <td>B</td>\n",
       "    </tr>\n",
       "    <tr>\n",
       "      <th>2</th>\n",
       "      <td>2961555356</td>\n",
       "      <td>4069496402</td>\n",
       "      <td>2019-08-15</td>\n",
       "      <td>10.2</td>\n",
       "      <td>A</td>\n",
       "    </tr>\n",
       "  </tbody>\n",
       "</table>\n",
       "</div>"
      ],
      "text/plain": [
       "   transactionId   visitorId        date  revenue group\n",
       "0     3667963787  3312258926  2019-08-15     30.4     B\n",
       "1     2804400009  3642806036  2019-08-15     15.2     B\n",
       "2     2961555356  4069496402  2019-08-15     10.2     A"
      ]
     },
     "metadata": {},
     "output_type": "display_data"
    }
   ],
   "source": [
    "# Carga de datos de Ordenes\n",
    "\n",
    "orders = pd.read_csv('/datasets/orders_us.csv')\n",
    "print(orders.info())\n",
    "display(orders.head(3))"
   ]
  },
  {
   "cell_type": "code",
   "execution_count": 5,
   "metadata": {},
   "outputs": [
    {
     "name": "stdout",
     "output_type": "stream",
     "text": [
      "<class 'pandas.core.frame.DataFrame'>\n",
      "Int64Index: 1194 entries, 0 to 1196\n",
      "Data columns (total 5 columns):\n",
      " #   Column         Non-Null Count  Dtype         \n",
      "---  ------         --------------  -----         \n",
      " 0   transactionid  1194 non-null   int64         \n",
      " 1   visitorid      1194 non-null   int64         \n",
      " 2   date           1194 non-null   datetime64[ns]\n",
      " 3   revenue        1194 non-null   float64       \n",
      " 4   group          1194 non-null   object        \n",
      "dtypes: datetime64[ns](1), float64(1), int64(2), object(1)\n",
      "memory usage: 56.0+ KB\n",
      "None\n"
     ]
    },
    {
     "data": {
      "text/html": [
       "<div>\n",
       "<style scoped>\n",
       "    .dataframe tbody tr th:only-of-type {\n",
       "        vertical-align: middle;\n",
       "    }\n",
       "\n",
       "    .dataframe tbody tr th {\n",
       "        vertical-align: top;\n",
       "    }\n",
       "\n",
       "    .dataframe thead th {\n",
       "        text-align: right;\n",
       "    }\n",
       "</style>\n",
       "<table border=\"1\" class=\"dataframe\">\n",
       "  <thead>\n",
       "    <tr style=\"text-align: right;\">\n",
       "      <th></th>\n",
       "      <th>transactionid</th>\n",
       "      <th>visitorid</th>\n",
       "      <th>date</th>\n",
       "      <th>revenue</th>\n",
       "      <th>group</th>\n",
       "    </tr>\n",
       "  </thead>\n",
       "  <tbody>\n",
       "    <tr>\n",
       "      <th>0</th>\n",
       "      <td>3667963787</td>\n",
       "      <td>3312258926</td>\n",
       "      <td>2019-08-15</td>\n",
       "      <td>30.4</td>\n",
       "      <td>B</td>\n",
       "    </tr>\n",
       "    <tr>\n",
       "      <th>1</th>\n",
       "      <td>2804400009</td>\n",
       "      <td>3642806036</td>\n",
       "      <td>2019-08-15</td>\n",
       "      <td>15.2</td>\n",
       "      <td>B</td>\n",
       "    </tr>\n",
       "    <tr>\n",
       "      <th>2</th>\n",
       "      <td>2961555356</td>\n",
       "      <td>4069496402</td>\n",
       "      <td>2019-08-15</td>\n",
       "      <td>10.2</td>\n",
       "      <td>B</td>\n",
       "    </tr>\n",
       "  </tbody>\n",
       "</table>\n",
       "</div>"
      ],
      "text/plain": [
       "   transactionid   visitorid       date  revenue group\n",
       "0     3667963787  3312258926 2019-08-15     30.4     B\n",
       "1     2804400009  3642806036 2019-08-15     15.2     B\n",
       "2     2961555356  4069496402 2019-08-15     10.2     B"
      ]
     },
     "metadata": {},
     "output_type": "display_data"
    }
   ],
   "source": [
    "# Preparación y enriquecimiento de datos de Ordenes\n",
    "\n",
    "# Estandarización de formatos de fecha y nombre de columnas\n",
    "orders['date'] = pd.to_datetime(orders['date'])\n",
    "orders.columns = orders.columns.str.lower()\n",
    "\n",
    "# Correción de grupo de asignación por usuario\n",
    "corrected = orders.sort_values(by='date').groupby('visitorid')['group'].first().reset_index(name='corrected_group')\n",
    "orders = orders.merge(corrected, on='visitorid')\n",
    "\n",
    "orders.drop_duplicates(subset=['visitorid','date','revenue'], inplace=True)\n",
    "orders.dropna(inplace=True)\n",
    "orders.drop(columns='group', inplace=True)\n",
    "orders.rename(columns={'corrected_group':'group'}, inplace=True)\n",
    "\n",
    "print(orders.info())\n",
    "display(orders.head(3))"
   ]
  },
  {
   "cell_type": "markdown",
   "metadata": {},
   "source": [
    "Comentarios:\n",
    "1. Se evidenció que algunos usuarios se encontraban asignados a más de un grupo de prueba, razón por la cuál se reasignó su grupo basado en su primera fecha de compra\n",
    "2. Los nombres de columnas fueron estandarizados a minúscula (lower case) para facilitar su uso durante el proyecto\n",
    "3. Las fechas fueron convertidas a un formato de fecha correspondiente\n",
    "4. No se encontraron datos ausentes ni duplicados en el dataset\n",
    "--------"
   ]
  },
  {
   "cell_type": "code",
   "execution_count": 6,
   "metadata": {},
   "outputs": [
    {
     "name": "stdout",
     "output_type": "stream",
     "text": [
      "<class 'pandas.core.frame.DataFrame'>\n",
      "RangeIndex: 62 entries, 0 to 61\n",
      "Data columns (total 3 columns):\n",
      " #   Column  Non-Null Count  Dtype \n",
      "---  ------  --------------  ----- \n",
      " 0   date    62 non-null     object\n",
      " 1   group   62 non-null     object\n",
      " 2   visits  62 non-null     int64 \n",
      "dtypes: int64(1), object(2)\n",
      "memory usage: 1.6+ KB\n",
      "None\n"
     ]
    },
    {
     "data": {
      "text/html": [
       "<div>\n",
       "<style scoped>\n",
       "    .dataframe tbody tr th:only-of-type {\n",
       "        vertical-align: middle;\n",
       "    }\n",
       "\n",
       "    .dataframe tbody tr th {\n",
       "        vertical-align: top;\n",
       "    }\n",
       "\n",
       "    .dataframe thead th {\n",
       "        text-align: right;\n",
       "    }\n",
       "</style>\n",
       "<table border=\"1\" class=\"dataframe\">\n",
       "  <thead>\n",
       "    <tr style=\"text-align: right;\">\n",
       "      <th></th>\n",
       "      <th>date</th>\n",
       "      <th>group</th>\n",
       "      <th>visits</th>\n",
       "    </tr>\n",
       "  </thead>\n",
       "  <tbody>\n",
       "    <tr>\n",
       "      <th>0</th>\n",
       "      <td>2019-08-01</td>\n",
       "      <td>A</td>\n",
       "      <td>719</td>\n",
       "    </tr>\n",
       "    <tr>\n",
       "      <th>1</th>\n",
       "      <td>2019-08-02</td>\n",
       "      <td>A</td>\n",
       "      <td>619</td>\n",
       "    </tr>\n",
       "    <tr>\n",
       "      <th>2</th>\n",
       "      <td>2019-08-03</td>\n",
       "      <td>A</td>\n",
       "      <td>507</td>\n",
       "    </tr>\n",
       "    <tr>\n",
       "      <th>3</th>\n",
       "      <td>2019-08-04</td>\n",
       "      <td>A</td>\n",
       "      <td>717</td>\n",
       "    </tr>\n",
       "    <tr>\n",
       "      <th>4</th>\n",
       "      <td>2019-08-05</td>\n",
       "      <td>A</td>\n",
       "      <td>756</td>\n",
       "    </tr>\n",
       "    <tr>\n",
       "      <th>...</th>\n",
       "      <td>...</td>\n",
       "      <td>...</td>\n",
       "      <td>...</td>\n",
       "    </tr>\n",
       "    <tr>\n",
       "      <th>57</th>\n",
       "      <td>2019-08-27</td>\n",
       "      <td>B</td>\n",
       "      <td>720</td>\n",
       "    </tr>\n",
       "    <tr>\n",
       "      <th>58</th>\n",
       "      <td>2019-08-28</td>\n",
       "      <td>B</td>\n",
       "      <td>654</td>\n",
       "    </tr>\n",
       "    <tr>\n",
       "      <th>59</th>\n",
       "      <td>2019-08-29</td>\n",
       "      <td>B</td>\n",
       "      <td>531</td>\n",
       "    </tr>\n",
       "    <tr>\n",
       "      <th>60</th>\n",
       "      <td>2019-08-30</td>\n",
       "      <td>B</td>\n",
       "      <td>490</td>\n",
       "    </tr>\n",
       "    <tr>\n",
       "      <th>61</th>\n",
       "      <td>2019-08-31</td>\n",
       "      <td>B</td>\n",
       "      <td>718</td>\n",
       "    </tr>\n",
       "  </tbody>\n",
       "</table>\n",
       "<p>62 rows × 3 columns</p>\n",
       "</div>"
      ],
      "text/plain": [
       "          date group  visits\n",
       "0   2019-08-01     A     719\n",
       "1   2019-08-02     A     619\n",
       "2   2019-08-03     A     507\n",
       "3   2019-08-04     A     717\n",
       "4   2019-08-05     A     756\n",
       "..         ...   ...     ...\n",
       "57  2019-08-27     B     720\n",
       "58  2019-08-28     B     654\n",
       "59  2019-08-29     B     531\n",
       "60  2019-08-30     B     490\n",
       "61  2019-08-31     B     718\n",
       "\n",
       "[62 rows x 3 columns]"
      ]
     },
     "metadata": {},
     "output_type": "display_data"
    }
   ],
   "source": [
    "# Carga de datos de Visitas\n",
    "\n",
    "visits = pd.read_csv('/datasets/visits_us.csv')\n",
    "print(visits.info())\n",
    "display(visits)"
   ]
  },
  {
   "cell_type": "code",
   "execution_count": 7,
   "metadata": {},
   "outputs": [
    {
     "name": "stdout",
     "output_type": "stream",
     "text": [
      "<class 'pandas.core.frame.DataFrame'>\n",
      "RangeIndex: 62 entries, 0 to 61\n",
      "Data columns (total 3 columns):\n",
      " #   Column  Non-Null Count  Dtype         \n",
      "---  ------  --------------  -----         \n",
      " 0   date    62 non-null     datetime64[ns]\n",
      " 1   group   62 non-null     object        \n",
      " 2   visits  62 non-null     int64         \n",
      "dtypes: datetime64[ns](1), int64(1), object(1)\n",
      "memory usage: 1.6+ KB\n",
      "None\n"
     ]
    },
    {
     "data": {
      "text/html": [
       "<div>\n",
       "<style scoped>\n",
       "    .dataframe tbody tr th:only-of-type {\n",
       "        vertical-align: middle;\n",
       "    }\n",
       "\n",
       "    .dataframe tbody tr th {\n",
       "        vertical-align: top;\n",
       "    }\n",
       "\n",
       "    .dataframe thead th {\n",
       "        text-align: right;\n",
       "    }\n",
       "</style>\n",
       "<table border=\"1\" class=\"dataframe\">\n",
       "  <thead>\n",
       "    <tr style=\"text-align: right;\">\n",
       "      <th></th>\n",
       "      <th>date</th>\n",
       "      <th>group</th>\n",
       "      <th>visits</th>\n",
       "    </tr>\n",
       "  </thead>\n",
       "  <tbody>\n",
       "    <tr>\n",
       "      <th>0</th>\n",
       "      <td>2019-08-01</td>\n",
       "      <td>A</td>\n",
       "      <td>719</td>\n",
       "    </tr>\n",
       "    <tr>\n",
       "      <th>1</th>\n",
       "      <td>2019-08-02</td>\n",
       "      <td>A</td>\n",
       "      <td>619</td>\n",
       "    </tr>\n",
       "    <tr>\n",
       "      <th>2</th>\n",
       "      <td>2019-08-03</td>\n",
       "      <td>A</td>\n",
       "      <td>507</td>\n",
       "    </tr>\n",
       "    <tr>\n",
       "      <th>3</th>\n",
       "      <td>2019-08-04</td>\n",
       "      <td>A</td>\n",
       "      <td>717</td>\n",
       "    </tr>\n",
       "    <tr>\n",
       "      <th>4</th>\n",
       "      <td>2019-08-05</td>\n",
       "      <td>A</td>\n",
       "      <td>756</td>\n",
       "    </tr>\n",
       "    <tr>\n",
       "      <th>...</th>\n",
       "      <td>...</td>\n",
       "      <td>...</td>\n",
       "      <td>...</td>\n",
       "    </tr>\n",
       "    <tr>\n",
       "      <th>57</th>\n",
       "      <td>2019-08-27</td>\n",
       "      <td>B</td>\n",
       "      <td>720</td>\n",
       "    </tr>\n",
       "    <tr>\n",
       "      <th>58</th>\n",
       "      <td>2019-08-28</td>\n",
       "      <td>B</td>\n",
       "      <td>654</td>\n",
       "    </tr>\n",
       "    <tr>\n",
       "      <th>59</th>\n",
       "      <td>2019-08-29</td>\n",
       "      <td>B</td>\n",
       "      <td>531</td>\n",
       "    </tr>\n",
       "    <tr>\n",
       "      <th>60</th>\n",
       "      <td>2019-08-30</td>\n",
       "      <td>B</td>\n",
       "      <td>490</td>\n",
       "    </tr>\n",
       "    <tr>\n",
       "      <th>61</th>\n",
       "      <td>2019-08-31</td>\n",
       "      <td>B</td>\n",
       "      <td>718</td>\n",
       "    </tr>\n",
       "  </tbody>\n",
       "</table>\n",
       "<p>62 rows × 3 columns</p>\n",
       "</div>"
      ],
      "text/plain": [
       "         date group  visits\n",
       "0  2019-08-01     A     719\n",
       "1  2019-08-02     A     619\n",
       "2  2019-08-03     A     507\n",
       "3  2019-08-04     A     717\n",
       "4  2019-08-05     A     756\n",
       "..        ...   ...     ...\n",
       "57 2019-08-27     B     720\n",
       "58 2019-08-28     B     654\n",
       "59 2019-08-29     B     531\n",
       "60 2019-08-30     B     490\n",
       "61 2019-08-31     B     718\n",
       "\n",
       "[62 rows x 3 columns]"
      ]
     },
     "metadata": {},
     "output_type": "display_data"
    }
   ],
   "source": [
    "# Preparación de datos de Visitas\n",
    "\n",
    "# Estandarización de formatos de fecha\n",
    "visits['date'] = pd.to_datetime(visits['date'])\n",
    "\n",
    "print(visits.info())\n",
    "display(visits)"
   ]
  },
  {
   "cell_type": "markdown",
   "metadata": {},
   "source": [
    "Comentarios:\n",
    "1. Las fechas fueron convertidas a un formato de fecha correspondiente\n",
    "2. No se encontraron datos ausentes ni duplicados en el dataset\n",
    "--------"
   ]
  },
  {
   "cell_type": "code",
   "execution_count": 8,
   "metadata": {},
   "outputs": [
    {
     "data": {
      "text/html": [
       "<div>\n",
       "<style scoped>\n",
       "    .dataframe tbody tr th:only-of-type {\n",
       "        vertical-align: middle;\n",
       "    }\n",
       "\n",
       "    .dataframe tbody tr th {\n",
       "        vertical-align: top;\n",
       "    }\n",
       "\n",
       "    .dataframe thead th {\n",
       "        text-align: right;\n",
       "    }\n",
       "</style>\n",
       "<table border=\"1\" class=\"dataframe\">\n",
       "  <thead>\n",
       "    <tr style=\"text-align: right;\">\n",
       "      <th></th>\n",
       "      <th>transactionid</th>\n",
       "      <th>visitorid</th>\n",
       "      <th>date</th>\n",
       "      <th>revenue</th>\n",
       "      <th>group</th>\n",
       "      <th>visits</th>\n",
       "    </tr>\n",
       "  </thead>\n",
       "  <tbody>\n",
       "    <tr>\n",
       "      <th>523</th>\n",
       "      <td>1144701458</td>\n",
       "      <td>1143609305</td>\n",
       "      <td>2019-08-01</td>\n",
       "      <td>45.3</td>\n",
       "      <td>A</td>\n",
       "      <td>719</td>\n",
       "    </tr>\n",
       "    <tr>\n",
       "      <th>524</th>\n",
       "      <td>1120327437</td>\n",
       "      <td>4256040402</td>\n",
       "      <td>2019-08-01</td>\n",
       "      <td>90.2</td>\n",
       "      <td>A</td>\n",
       "      <td>719</td>\n",
       "    </tr>\n",
       "    <tr>\n",
       "      <th>525</th>\n",
       "      <td>477940151</td>\n",
       "      <td>1422773200</td>\n",
       "      <td>2019-08-01</td>\n",
       "      <td>15.8</td>\n",
       "      <td>A</td>\n",
       "      <td>719</td>\n",
       "    </tr>\n",
       "    <tr>\n",
       "      <th>526</th>\n",
       "      <td>1295850747</td>\n",
       "      <td>2947100995</td>\n",
       "      <td>2019-08-01</td>\n",
       "      <td>455.8</td>\n",
       "      <td>A</td>\n",
       "      <td>719</td>\n",
       "    </tr>\n",
       "    <tr>\n",
       "      <th>527</th>\n",
       "      <td>1170105516</td>\n",
       "      <td>2706377257</td>\n",
       "      <td>2019-08-01</td>\n",
       "      <td>140.8</td>\n",
       "      <td>A</td>\n",
       "      <td>719</td>\n",
       "    </tr>\n",
       "    <tr>\n",
       "      <th>...</th>\n",
       "      <td>...</td>\n",
       "      <td>...</td>\n",
       "      <td>...</td>\n",
       "      <td>...</td>\n",
       "      <td>...</td>\n",
       "      <td>...</td>\n",
       "    </tr>\n",
       "    <tr>\n",
       "      <th>1093</th>\n",
       "      <td>2886170101</td>\n",
       "      <td>930758570</td>\n",
       "      <td>2019-08-31</td>\n",
       "      <td>105.7</td>\n",
       "      <td>B</td>\n",
       "      <td>718</td>\n",
       "    </tr>\n",
       "    <tr>\n",
       "      <th>1094</th>\n",
       "      <td>3845118557</td>\n",
       "      <td>1964413493</td>\n",
       "      <td>2019-08-31</td>\n",
       "      <td>5.5</td>\n",
       "      <td>B</td>\n",
       "      <td>718</td>\n",
       "    </tr>\n",
       "    <tr>\n",
       "      <th>1095</th>\n",
       "      <td>853409662</td>\n",
       "      <td>1390677121</td>\n",
       "      <td>2019-08-31</td>\n",
       "      <td>290.5</td>\n",
       "      <td>B</td>\n",
       "      <td>718</td>\n",
       "    </tr>\n",
       "    <tr>\n",
       "      <th>1096</th>\n",
       "      <td>4149581711</td>\n",
       "      <td>1555048873</td>\n",
       "      <td>2019-08-31</td>\n",
       "      <td>30.2</td>\n",
       "      <td>B</td>\n",
       "      <td>718</td>\n",
       "    </tr>\n",
       "    <tr>\n",
       "      <th>1097</th>\n",
       "      <td>2983450240</td>\n",
       "      <td>1605520752</td>\n",
       "      <td>2019-08-31</td>\n",
       "      <td>435.5</td>\n",
       "      <td>B</td>\n",
       "      <td>718</td>\n",
       "    </tr>\n",
       "  </tbody>\n",
       "</table>\n",
       "<p>1194 rows × 6 columns</p>\n",
       "</div>"
      ],
      "text/plain": [
       "      transactionid   visitorid       date  revenue group  visits\n",
       "523      1144701458  1143609305 2019-08-01     45.3     A     719\n",
       "524      1120327437  4256040402 2019-08-01     90.2     A     719\n",
       "525       477940151  1422773200 2019-08-01     15.8     A     719\n",
       "526      1295850747  2947100995 2019-08-01    455.8     A     719\n",
       "527      1170105516  2706377257 2019-08-01    140.8     A     719\n",
       "...             ...         ...        ...      ...   ...     ...\n",
       "1093     2886170101   930758570 2019-08-31    105.7     B     718\n",
       "1094     3845118557  1964413493 2019-08-31      5.5     B     718\n",
       "1095      853409662  1390677121 2019-08-31    290.5     B     718\n",
       "1096     4149581711  1555048873 2019-08-31     30.2     B     718\n",
       "1097     2983450240  1605520752 2019-08-31    435.5     B     718\n",
       "\n",
       "[1194 rows x 6 columns]"
      ]
     },
     "execution_count": 8,
     "metadata": {},
     "output_type": "execute_result"
    }
   ],
   "source": [
    "# Unión de datasets\n",
    "\n",
    "merged = orders.merge(visits, on=['date','group'])\n",
    "\n",
    "merged.sort_values(by=['date','group'])"
   ]
  },
  {
   "cell_type": "markdown",
   "metadata": {},
   "source": [
    "------\n",
    "# 2.2 Análisis"
   ]
  },
  {
   "cell_type": "code",
   "execution_count": 9,
   "metadata": {},
   "outputs": [
    {
     "data": {
      "image/png": "[encoded data removed]",
      "text/plain": [
       "<Figure size 640x480 with 1 Axes>"
      ]
     },
     "metadata": {},
     "output_type": "display_data"
    }
   ],
   "source": [
    "# Representa gráficamente el ingreso acumulado por grupo\n",
    "\n",
    "# Lista de fechas y grupos correspondientes\n",
    "grouped_dates = orders[['date','group']].drop_duplicates()\n",
    "\n",
    "# Cálculo de ordenes acumuladas\n",
    "agg_orders = (grouped_dates.apply(lambda x:\n",
    "                                  orders[np.logical_and(orders['date'] <= x['date'],\n",
    "                                                        orders['group'] == x['group'])].agg({'date':'max',\n",
    "                                                                                             'group':'max', \n",
    "                                                                                             'transactionid':'nunique', \n",
    "                                                                                             'visitorid':'nunique',\n",
    "                                                                                             'revenue':'sum'}), axis=1)).sort_values(by=['date','group'])\n",
    "# Cálculo de visitantes acumulados\n",
    "agg_visitors = (grouped_dates.apply(lambda x:\n",
    "                                  visits[np.logical_and(visits['date'] <= x['date'],\n",
    "                                                        visits['group'] == x['group'])].agg({'date':'max',\n",
    "                                                                                             'group':'max', \n",
    "                                                                                             'visits':'sum'}), axis=1)).sort_values(by=['date','group'])\n",
    "\n",
    "# Unión de dataframes de datos acumulados\n",
    "cumulative = agg_orders.merge(agg_visitors, on=['date','group'])\n",
    "cumulative.columns = ['date','group','order_count','customer_count','cum_revenue','cum_visits']\n",
    "\n",
    "# Creación de dataframes discriminados por grupo\n",
    "cumulativeA = cumulative.query('group == \"A\"')[['date','cum_revenue', 'order_count']]\n",
    "cumulativeB = cumulative.query('group == \"B\"')[['date','cum_revenue', 'order_count']]\n",
    "\n",
    "plt.plot(cumulativeA['date'],\n",
    "         cumulativeA['cum_revenue'],\n",
    "         label='A')\n",
    "\n",
    "plt.plot(cumulativeB['date'],\n",
    "         cumulativeB['cum_revenue'], \n",
    "         label='B')\n",
    "\n",
    "plt.title('Cumulative revenue divided by group')\n",
    "plt.xlabel('Date')\n",
    "plt.ylabel('Revenue ($)')\n",
    "plt.xticks(rotation = 90)\n",
    "plt.legend()\n",
    "plt.show()"
   ]
  },
  {
   "cell_type": "markdown",
   "metadata": {},
   "source": [
    "Comentarios:\n",
    "1. En terminos generales se aprecia que el grupo B ha presentado un mejor desempeño a lo largo de la prueba en términos de ingresos acumulados\n",
    "2. Entre los días 08-17 y 08-21 se evidencia un salto importante en los ingresos medios del grupo B, por lo que se presume que existieron valores atípicos que llevaron a la métrica a comportarse de tal manera\n",
    "3. Se aprecia que ambos grupos han mostrado un crecimiento constante a lo largo del tiempo"
   ]
  },
  {
   "cell_type": "code",
   "execution_count": 10,
   "metadata": {},
   "outputs": [
    {
     "data": {
      "image/png": "[encoded data removed]",
      "text/plain": [
       "<Figure size 640x480 with 1 Axes>"
      ]
     },
     "metadata": {},
     "output_type": "display_data"
    }
   ],
   "source": [
    "# Representa gráficamente el tamaño de pedido promedio acumulado por grupo\n",
    "\n",
    "# Cálculo de tamaño de pedido promedio acumulado por grupo\n",
    "cumulativeA['avg_order_size'] = cumulativeA['cum_revenue']/cumulativeA['order_count']\n",
    "cumulativeB['avg_order_size'] = cumulativeB['cum_revenue']/cumulativeB['order_count']\n",
    "\n",
    "plt.plot(cumulativeA['date'],\n",
    "         cumulativeA['avg_order_size'],\n",
    "         label='A')\n",
    "\n",
    "plt.plot(cumulativeB['date'],\n",
    "         cumulativeB['avg_order_size'], \n",
    "         label='B')\n",
    "\n",
    "plt.title('Average accumulated order size divided by group')\n",
    "plt.xlabel('Date')\n",
    "plt.ylabel('Order size ($ per order)')\n",
    "plt.xticks(rotation = 90)\n",
    "plt.legend()\n",
    "plt.show()"
   ]
  },
  {
   "cell_type": "markdown",
   "metadata": {},
   "source": [
    "Comentarios:\n",
    "1. Se puede evidenciar que el grupo B presentó efectivamente un aumento repentino en el tamaño de compras, lo cual genera algo de distorsión en los resultados\n",
    "2. Se logra apreciar que a partir del día 08-13, el grupo A muestra una estabilidad en su promedio de compra que oscila entre 110 y 120 dolares por orden\n",
    "3. A pesar de que el grupo B parecía comenzar a mostrar cierta estabilidad a partir del día 08-07, la presencia de valores atípicos impide llegar a una conclusión al respecto"
   ]
  },
  {
   "cell_type": "code",
   "execution_count": 11,
   "metadata": {},
   "outputs": [
    {
     "data": {
      "image/png": "[encoded data removed]",
      "text/plain": [
       "<Figure size 640x480 with 1 Axes>"
      ]
     },
     "metadata": {},
     "output_type": "display_data"
    }
   ],
   "source": [
    "# Representa gráficamente la diferencia relativa en el tamaño de pedido promedio acumulado para el grupo B en comparación \n",
    "# con el grupo A\n",
    "\n",
    "merged_cumulative = cumulativeA.merge(cumulativeB, on='date', how='left', suffixes=['A', 'B'])\n",
    "\n",
    "plt.plot(merged_cumulative['date'],\n",
    "         (merged_cumulative['avg_order_sizeB']/merged_cumulative['avg_order_sizeA'])-1)\n",
    "\n",
    "plt.title('Relative difference in average accumulated order size \\n comparing Group B against Group A')\n",
    "plt.xlabel('Date')\n",
    "plt.ylabel('Relative difference')\n",
    "plt.axhline(y=0, linewidth=1, color='black', linestyle='--')\n",
    "plt.xticks(rotation = 90)\n",
    "plt.show()"
   ]
  },
  {
   "cell_type": "markdown",
   "metadata": {},
   "source": [
    "Comentarios:\n",
    "1. Se puede apreciar que durante los primeros 5 días de prueba, el grupo B mostró un aumento superior en el tamaño medio de sus ventas en comparación con el grupo A\n",
    "2. Entre los dias 08-06 y 08-13 se evidenció una caida pronunciada en el volumen promedio del grupo A, llevandolo incluso por debajo del grupo A\n",
    "3. Aunque el grupo B comenzó a mostrar debilidad luego del 08-13, no se puede llegar a ninguna conclusión debido a la distorsión generada por los datos atípicos"
   ]
  },
  {
   "cell_type": "code",
   "execution_count": 12,
   "metadata": {},
   "outputs": [
    {
     "data": {
      "image/png": "[encoded data removed]",
      "text/plain": [
       "<Figure size 640x480 with 1 Axes>"
      ]
     },
     "metadata": {},
     "output_type": "display_data"
    }
   ],
   "source": [
    "# Calcula la tasa de conversión de cada grupo como la relación entre los pedidos y el número de visitas de cada día\n",
    "# Representa gráficamente las tasas de conversión diarias de los dos grupos y describe la diferencia. \n",
    "\n",
    "cumulative['conversion'] = cumulative['order_count']*100/cumulative['cum_visits']\n",
    "\n",
    "cumulativeA = cumulative.query('group == \"A\"')\n",
    "cumulativeB = cumulative.query('group == \"B\"')\n",
    "\n",
    "plt.plot(cumulativeA['date'],\n",
    "         cumulativeA['conversion'],\n",
    "         label='A')\n",
    "\n",
    "plt.plot(cumulativeB['date'],\n",
    "         cumulativeB['conversion'], \n",
    "         label='B')\n",
    "\n",
    "plt.title('Cumulative conversion rate divided by group')\n",
    "plt.xlabel('Date')\n",
    "plt.ylabel('Conversion (%)')\n",
    "plt.xticks(rotation = 90)\n",
    "plt.legend()\n",
    "plt.show()"
   ]
  },
  {
   "cell_type": "markdown",
   "metadata": {},
   "source": [
    "Comentarios:\n",
    "1. A pesar de que ambos grupos mostraron un comportamiento similar durante los primeros 5 días de prueba, a partir del 08-05 se puede evidenciar que el grupo B comenzó a mostrar un mejor desempeño, teniendo una tasa de conversión 0.5% mayor que la del grupo A\n",
    "2. Una vez sean descartados los valores atípicos, se procederá a comparar nuevamente las tasas de conversión para contrastar si se produce algún cambio"
   ]
  },
  {
   "cell_type": "code",
   "execution_count": 13,
   "metadata": {},
   "outputs": [
    {
     "data": {
      "image/png": "[encoded data removed]",
      "text/plain": [
       "<Figure size 640x480 with 1 Axes>"
      ]
     },
     "metadata": {},
     "output_type": "display_data"
    }
   ],
   "source": [
    "# Traza un gráfico de dispersión del número de pedidos por usuario. Haz conclusiones y conjeturas\n",
    "\n",
    "grouped_orders = orders.groupby('visitorid')['transactionid'].nunique().reset_index(name='order_count')\n",
    "\n",
    "x_values = pd.Series(range(0,len(grouped_orders)))\n",
    "\n",
    "plt.scatter(x_values, \n",
    "            grouped_orders['order_count'])\n",
    "plt.title('Order amount distributed by user')\n",
    "plt.ylabel('Orders')\n",
    "plt.xlabel('Users')\n",
    "plt.yticks(np.arange(0, grouped_orders['order_count'].max()+1, step=1))\n",
    "plt.show()"
   ]
  },
  {
   "cell_type": "markdown",
   "metadata": {},
   "source": [
    "Comentarios:\n",
    "1. De la distribución de ordenes se puede concluir que la mayoría realiza entre 1 y 2 compras\n",
    "2. Se considera necesario un análisis de valores atípicos para definir cuales valores pueden ser descartados"
   ]
  },
  {
   "cell_type": "code",
   "execution_count": 14,
   "metadata": {},
   "outputs": [
    {
     "name": "stdout",
     "output_type": "stream",
     "text": [
      "Límite de percentil 90: 1\n",
      "Límite de percentil 95: 2\n",
      "Límite de percentil 99: 4\n"
     ]
    }
   ],
   "source": [
    "# Calcula los percentiles 95 y 99 del número de pedidos por usuario. \n",
    "# Define el punto en el cual un punto de datos se convierte en una anomalía.\n",
    "\n",
    "amount_anomalies = np.percentile(grouped_orders['order_count'], [90,95,99])\n",
    "\n",
    "print(f'Límite de percentil 90: {int(amount_anomalies[0])}')\n",
    "print(f'Límite de percentil 95: {int(amount_anomalies[1])}')\n",
    "print(f'Límite de percentil 99: {int(amount_anomalies[2])}')"
   ]
  },
  {
   "cell_type": "markdown",
   "metadata": {},
   "source": [
    "Comentarios:\n",
    "1. Una vez calculados los límites de los percentiles para la cantidad de ordenes, se confirma que la mayoría de usuarios no realiza más de 2 compras \n",
    "2. Se consideran valores anomalos descartables aquellos valores mayores a 2 ordenes"
   ]
  },
  {
   "cell_type": "code",
   "execution_count": 15,
   "metadata": {},
   "outputs": [
    {
     "data": {
      "image/png": "[encoded data removed]",
      "text/plain": [
       "<Figure size 640x480 with 1 Axes>"
      ]
     },
     "metadata": {},
     "output_type": "display_data"
    },
    {
     "data": {
      "image/png": "[encoded data removed]",
      "text/plain": [
       "<Figure size 640x480 with 1 Axes>"
      ]
     },
     "metadata": {},
     "output_type": "display_data"
    }
   ],
   "source": [
    "# Traza un gráfico de dispersión de los precios de los pedidos\n",
    "\n",
    "# Gráfico mostrando todos los valores\n",
    "x_values = pd.Series(range(0,len(orders['revenue'])))\n",
    "\n",
    "plt.scatter(x_values, \n",
    "            orders['revenue'])\n",
    "\n",
    "plt.title('Revenue distributed by user')\n",
    "plt.ylabel('Revenue ($)')\n",
    "plt.xlabel('Users')\n",
    "plt.show()\n",
    "\n",
    "# Gráfico mostrando valores menores a $2500\n",
    "x_values = pd.Series(range(0,len(orders.query('revenue < 2500')['revenue'])))\n",
    "\n",
    "plt.scatter(x_values, \n",
    "            orders.query('revenue < 2500')['revenue'])\n",
    "\n",
    "plt.title('Revenue distributed by user \\n (excluding orders above $2500)')\n",
    "plt.ylabel('Revenue ($)')\n",
    "plt.xlabel('Users')\n",
    "plt.show()"
   ]
  },
  {
   "cell_type": "markdown",
   "metadata": {},
   "source": [
    "Comentarios:\n",
    "1. De la distribución de ordenes se puede concluir que la mayoría de compras se encuentran por debajo de $400\n",
    "2. Se considera necesario un análisis de valores atípicos para definir cuales valores pueden ser descartados"
   ]
  },
  {
   "cell_type": "code",
   "execution_count": 16,
   "metadata": {},
   "outputs": [
    {
     "name": "stdout",
     "output_type": "stream",
     "text": [
      "Límite de percentil 90: $280\n",
      "Límite de percentil 95: $429\n",
      "Límite de percentil 99: $900\n"
     ]
    }
   ],
   "source": [
    "# Calcula los percentiles 95 y 99 de los precios de los pedidos. \n",
    "# Define el punto en el cual un punto de datos se convierte en una anomalía.\n",
    "\n",
    "price_anomalies = np.percentile(orders['revenue'], [90,95,99])\n",
    "\n",
    "print(f'Límite de percentil 90: ${int(price_anomalies[0])}')\n",
    "print(f'Límite de percentil 95: ${int(price_anomalies[1])}')\n",
    "print(f'Límite de percentil 99: ${int(price_anomalies[2])}')"
   ]
  },
  {
   "cell_type": "markdown",
   "metadata": {},
   "source": [
    "Comentarios:\n",
    "1. Una vez calculados los límites de los percentiles para la cantidad de ordenes, se confirma que la mayoría de usuarios no realiza compras de más de $429 \n",
    "2. Se consideran valores anomalos descartables aquellos valores mayores a 2 ordenes"
   ]
  },
  {
   "cell_type": "code",
   "execution_count": 17,
   "metadata": {},
   "outputs": [
    {
     "name": "stdout",
     "output_type": "stream",
     "text": [
      "alpha: 0.050 (5.00%)\n",
      "Valor p: 0.010 (0.97%)\n",
      "Diferencia relativa de conversión del grupo B respecto al grupo A: 0.129 (12.89%)\n",
      "\n",
      "Hipótesis nula rechazada: El comportamiento de las muestras indica que existe una diferencia significativa en la conversión entre los grupos A y B\n"
     ]
    }
   ],
   "source": [
    "# Significancia estadística de la diferencia en la conversión entre los grupos utilizando los datos en bruto. \n",
    "\n",
    "# Preparación de muestra agrupada del grupo A\n",
    "grouped_ordersA = (orders\n",
    "                   .query('group == \"A\"')\n",
    "                   .groupby('visitorid')['transactionid']\n",
    "                   .nunique()\n",
    "                   .reset_index(name='order_count'))\n",
    "\n",
    "sampleA = pd.concat([grouped_ordersA['order_count'], \n",
    "                    pd.Series(0, \n",
    "                              index=np.arange(visits.query('group == \"A\"')['visits'].sum()\n",
    "                                              - len(grouped_ordersA['order_count'])), name='orders')], axis=0)\n",
    "\n",
    "# Preparación de muestra agrupada del grupo B\n",
    "grouped_ordersB = (orders\n",
    "                   .query('group == \"B\"')\n",
    "                   .groupby('visitorid')['transactionid']\n",
    "                   .nunique()\n",
    "                   .reset_index(name='order_count'))\n",
    "\n",
    "sampleB = pd.concat([grouped_ordersB['order_count'], \n",
    "                    pd.Series(0, \n",
    "                              index=np.arange(visits.query('group == \"B\"')['visits'].sum()\n",
    "                                              - len(grouped_ordersB['order_count'])), name='orders')], axis=0)\n",
    "\n",
    "# Cálculo de significación estadística \n",
    "alpha = 0.05\n",
    "\n",
    "print(f'alpha: {alpha:.3f} ({alpha*100:.2f}%)')\n",
    "print(f'Valor p: {st.mannwhitneyu(sampleB,sampleA)[1]:.3f} ({st.mannwhitneyu(sampleB,sampleA)[1]*100:.2f}%)')\n",
    "print(f'Diferencia relativa de conversión del grupo B respecto al grupo A: {((sampleB.mean()/sampleA.mean())-1):.3f} ({((sampleB.mean()/sampleA.mean())-1)*100:.2f}%)')\n",
    "print()\n",
    "\n",
    "if st.mannwhitneyu(sampleB,sampleA)[1] < alpha:\n",
    "    print('Hipótesis nula rechazada: El comportamiento de las muestras indica que existe una diferencia significativa en la conversión entre los grupos A y B')\n",
    "else:\n",
    "    print('Hipótesis nula aceptada: El comportamiento de las muestras indica que no  existe una diferencia significativa en la conversión entre los grupos A y B')"
   ]
  },
  {
   "cell_type": "code",
   "execution_count": 18,
   "metadata": {},
   "outputs": [
    {
     "name": "stdout",
     "output_type": "stream",
     "text": [
      "alpha: 0.050 (5.00%)\n",
      "Valor p: 0.627 (62.66%)\n",
      "Diferencia relativa en número de pedidos del grupo B respecto al grupo A: 0.215 (21.47%)\n",
      "\n",
      "Hipótesis nula aceptada: El comportamiento de las muestras indica que no existe una diferencia significativa en el tamaño promedio de pedido entre los grupos A y B\n"
     ]
    }
   ],
   "source": [
    "# Significancia estadística de la diferencia en el tamaño promedio de pedido entre los grupos utilizando los datos en bruto\n",
    "\n",
    "grouped_revenueA = orders.query('group == \"A\"')['revenue']\n",
    "grouped_revenueB = orders.query('group == \"B\"')['revenue']\n",
    "\n",
    "print(f'alpha: {alpha:.3f} ({alpha*100:.2f}%)')\n",
    "print(f'Valor p: {st.mannwhitneyu(grouped_revenueB, grouped_revenueA)[1]:.3f} ({st.mannwhitneyu(grouped_revenueB, grouped_revenueA)[1]*100:.2f}%)')\n",
    "print(f'Diferencia relativa en número de pedidos del grupo B respecto al grupo A: {((grouped_revenueB.mean()/grouped_revenueA.mean())-1):.3f} ({((grouped_revenueB.mean()/grouped_revenueA.mean())-1)*100:.2f}%)')\n",
    "print()\n",
    "\n",
    "if st.mannwhitneyu(grouped_revenueB, grouped_revenueA)[1] < alpha:\n",
    "    print('Hipótesis nula rechazada: El comportamiento de las muestras indica que existe una diferencia significativa en el tamaño promedio de pedido entre los grupos A y B')\n",
    "else:\n",
    "    print('Hipótesis nula aceptada: El comportamiento de las muestras indica que no existe una diferencia significativa en el tamaño promedio de pedido entre los grupos A y B')"
   ]
  },
  {
   "cell_type": "code",
   "execution_count": 19,
   "metadata": {},
   "outputs": [
    {
     "name": "stdout",
     "output_type": "stream",
     "text": [
      "Cantidad de usuarios que presentaron anomalías en el volumen o precio de pedido: 84\n"
     ]
    }
   ],
   "source": [
    "# Cálculo de usuarios anomalos\n",
    "\n",
    "excessive_orders = pd.concat([grouped_ordersA.query('order_count > @amount_anomalies[1]')['visitorid'], \n",
    "                              grouped_ordersB.query('order_count > @amount_anomalies[1]')['visitorid']], axis=0)\n",
    "\n",
    "expensive_orders = orders.query('revenue > @price_anomalies[1]')['visitorid']\n",
    "\n",
    "abnormal_users = pd.concat([expensive_orders, excessive_orders], axis=0).drop_duplicates().sort_values()\n",
    "\n",
    "print(f'Cantidad de usuarios que presentaron anomalías en el volumen o precio de pedido: {abnormal_users.shape[0]}')"
   ]
  },
  {
   "cell_type": "code",
   "execution_count": 20,
   "metadata": {},
   "outputs": [
    {
     "name": "stdout",
     "output_type": "stream",
     "text": [
      "alpha: 0.050 (5.00%)\n",
      "Valor p: 0.010 (0.97%)\n",
      "Diferencia relativa de conversión del grupo B respecto al grupo A: 0.181 (18.10%)\n",
      "\n",
      "Hipótesis nula rechazada: El comportamiento de las muestras excluyendo los valores atípicos indica que existe una diferencia significativa en la conversión entre los grupos A y B\n"
     ]
    }
   ],
   "source": [
    "# Significancia estadística de la diferencia en la conversión entre los grupos utilizando los datos filtrados\n",
    "\n",
    "# Preparación de muestra agrupada del grupo A\n",
    "filtered_sampleA = pd.concat([grouped_ordersA[~grouped_ordersA['visitorid'].isin(abnormal_users)]['order_count'], \n",
    "                              pd.Series(0, \n",
    "                                        index=np.arange(visits.query('group == \"A\"')['visits'].sum()\n",
    "                                                        - len(grouped_ordersA['order_count'])), name='orders')], axis=0)\n",
    "\n",
    "# Preparación de muestra agrupada del grupo B\n",
    "filtered_sampleB = pd.concat([grouped_ordersB[~grouped_ordersB['visitorid'].isin(abnormal_users)]['order_count'], \n",
    "                              pd.Series(0, \n",
    "                                        index=np.arange(visits.query('group == \"B\"')['visits'].sum()\n",
    "                                                        - len(grouped_ordersB['order_count'])), name='orders')], axis=0)\n",
    "\n",
    "# Cálculo de significación estadística \n",
    "alpha = 0.05\n",
    "\n",
    "print(f'alpha: {alpha:.3f} ({alpha*100:.2f}%)')\n",
    "print(f'Valor p: {st.mannwhitneyu(filtered_sampleB,filtered_sampleA)[1]:.3f} ({st.mannwhitneyu(filtered_sampleB,filtered_sampleA)[1]*100:.2f}%)')\n",
    "print(f'Diferencia relativa de conversión del grupo B respecto al grupo A: {((filtered_sampleB.mean()/filtered_sampleA.mean())-1):.3f} ({((filtered_sampleB.mean()/filtered_sampleA.mean())-1)*100:.2f}%)')\n",
    "print()\n",
    "\n",
    "if st.mannwhitneyu(filtered_sampleB,filtered_sampleA)[1] < alpha:\n",
    "    print('Hipótesis nula rechazada: El comportamiento de las muestras excluyendo los valores atípicos indica que existe una diferencia significativa en la conversión entre los grupos A y B')\n",
    "else:\n",
    "    print('Hipótesis nula aceptada: El comportamiento de las muestras excluyendo los valores atípicos indica que no  existe una diferencia significativa en la conversión entre los grupos A y B')\n",
    "\n",
    "\n"
   ]
  },
  {
   "cell_type": "code",
   "execution_count": 21,
   "metadata": {},
   "outputs": [
    {
     "name": "stdout",
     "output_type": "stream",
     "text": [
      "alpha: 0.050 (5.00%)\n",
      "Valor p: 0.343 (34.32%)\n",
      "Diferencia relativa en número de pedidos del grupo B respecto al grupo A: -0.070 (-6.98%)\n",
      "\n",
      "Hipótesis nula aceptada: El comportamiento de las muestras excluyendo los valores atípicos indica que no existe una diferencia significativa en el tamaño promedio de pedido entre los grupos A y B\n"
     ]
    }
   ],
   "source": [
    "# Significancia estadística de la diferencia en el tamaño promedio de pedido entre los grupos utilizando los datos filtrados\n",
    "\n",
    "filtered_revenueA = orders[(orders['group'] == 'A') & ~(orders['visitorid'].isin(abnormal_users))]['revenue']\n",
    "filtered_revenueB = orders[(orders['group'] == 'B') & ~(orders['visitorid'].isin(abnormal_users))]['revenue']\n",
    "\n",
    "print(f'alpha: {alpha:.3f} ({alpha*100:.2f}%)')\n",
    "print(f'Valor p: {st.mannwhitneyu(filtered_revenueB, filtered_revenueA)[1]:.3f} ({st.mannwhitneyu(filtered_revenueB, filtered_revenueA)[1]*100:.2f}%)')\n",
    "print(f'Diferencia relativa en número de pedidos del grupo B respecto al grupo A: {((filtered_revenueB.mean()/filtered_revenueA.mean())-1):.3f} ({((filtered_revenueB.mean()/filtered_revenueA.mean())-1)*100:.2f}%)')\n",
    "print()\n",
    "\n",
    "if st.mannwhitneyu(filtered_revenueB, filtered_revenueA)[1] < alpha:\n",
    "    print('Hipótesis nula rechazada: El comportamiento de las muestras excluyendo los valores atípicos indica que existe una diferencia significativa en el tamaño promedio de pedido entre los grupos A y B')\n",
    "else:\n",
    "    print('Hipótesis nula aceptada: El comportamiento de las muestras excluyendo los valores atípicos indica que no existe una diferencia significativa en el tamaño promedio de pedido entre los grupos A y B')"
   ]
  },
  {
   "cell_type": "code",
   "execution_count": 22,
   "metadata": {},
   "outputs": [
    {
     "data": {
      "image/png": "[encoded data removed]",
      "text/plain": [
       "<Figure size 640x480 with 1 Axes>"
      ]
     },
     "metadata": {},
     "output_type": "display_data"
    },
    {
     "data": {
      "image/png": "[encoded data removed]",
      "text/plain": [
       "<Figure size 640x480 with 1 Axes>"
      ]
     },
     "metadata": {},
     "output_type": "display_data"
    },
    {
     "data": {
      "image/png": "[encoded data removed]",
      "text/plain": [
       "<Figure size 640x480 with 1 Axes>"
      ]
     },
     "metadata": {},
     "output_type": "display_data"
    }
   ],
   "source": [
    "# Toma una decisión basada en los resultados de la prueba. Las decisiones posibles son: \n",
    "\n",
    "filtered_orders = orders[~(orders['visitorid'].isin(abnormal_users))]\n",
    "\n",
    "# Cálculo de ordenes acumuladas\n",
    "agg_orders = (grouped_dates.apply(lambda x:\n",
    "                                  filtered_orders[np.logical_and(filtered_orders['date'] <= x['date'],\n",
    "                                                                 filtered_orders['group'] == x['group'])].agg({'date':'max',\n",
    "                                                                                                     'group':'max', \n",
    "                                                                                                     'transactionid':'nunique', \n",
    "                                                                                                     'visitorid':'nunique',\n",
    "                                                                                                     'revenue':'sum'}), axis=1)).sort_values(by=['date','group'])\n",
    "# Cálculo de visitantes acumulados\n",
    "agg_visitors = (grouped_dates.apply(lambda x:\n",
    "                                  visits[np.logical_and(visits['date'] <= x['date'],\n",
    "                                                        visits['group'] == x['group'])].agg({'date':'max',\n",
    "                                                                                             'group':'max', \n",
    "                                                                                             'visits':'sum'}), axis=1)).sort_values(by=['date','group'])\n",
    "\n",
    "# Unión de dataframes de datos acumulados\n",
    "cumulative = agg_orders.merge(agg_visitors, on=['date','group'])\n",
    "cumulative.columns = ['date','group','order_count','customer_count','cum_revenue','cum_visits']\n",
    "\n",
    "# Creación de dataframes discriminados por grupo\n",
    "cumulativeA = cumulative.query('group == \"A\"')[['date','cum_revenue', 'order_count']]\n",
    "cumulativeB = cumulative.query('group == \"B\"')[['date','cum_revenue', 'order_count']]\n",
    "\n",
    "plt.plot(cumulativeA['date'],\n",
    "         cumulativeA['cum_revenue'],\n",
    "         label='A')\n",
    "\n",
    "plt.plot(cumulativeB['date'],\n",
    "         cumulativeB['cum_revenue'], \n",
    "         label='B')\n",
    "\n",
    "plt.title('Cumulative revenue divided by group \\n (excluding abnormal users)')\n",
    "plt.xlabel('Date')\n",
    "plt.ylabel('Revenue ($)')\n",
    "plt.xticks(rotation = 90)\n",
    "plt.legend()\n",
    "plt.show()\n",
    "\n",
    "# Cálculo de tamaño de pedido promedio acumulado por grupo\n",
    "cumulativeA['avg_order_size'] = cumulativeA['cum_revenue']/cumulativeA['order_count']\n",
    "cumulativeB['avg_order_size'] = cumulativeB['cum_revenue']/cumulativeB['order_count']\n",
    "\n",
    "plt.plot(cumulativeA['date'],\n",
    "         cumulativeA['avg_order_size'],\n",
    "         label='A')\n",
    "\n",
    "plt.plot(cumulativeB['date'],\n",
    "         cumulativeB['avg_order_size'], \n",
    "         label='B')\n",
    "\n",
    "plt.title('Average accumulated order size divided by group \\n (excluding abnormal users)')\n",
    "plt.xlabel('Date')\n",
    "plt.ylabel('Order size ($ per order)')\n",
    "plt.xticks(rotation = 90)\n",
    "plt.legend()\n",
    "plt.show()\n",
    "\n",
    "# Tasa de conversión acumulada\n",
    "cumulative['conversion'] = cumulative['order_count']*100/cumulative['cum_visits']\n",
    "\n",
    "cumulativeA = cumulative.query('group == \"A\"')\n",
    "cumulativeB = cumulative.query('group == \"B\"')\n",
    "\n",
    "plt.plot(cumulativeA['date'],\n",
    "         cumulativeA['conversion'],\n",
    "         label='A')\n",
    "\n",
    "plt.plot(cumulativeB['date'],\n",
    "         cumulativeB['conversion'], \n",
    "         label='B')\n",
    "\n",
    "plt.title('Cumulative conversion rate divided by group \\n (excluding abnormal users)')\n",
    "plt.xlabel('Date')\n",
    "plt.ylabel('Conversion (%)')\n",
    "plt.xticks(rotation = 90)\n",
    "plt.legend()\n",
    "plt.show()"
   ]
  },
  {
   "cell_type": "code",
   "execution_count": 23,
   "metadata": {},
   "outputs": [
    {
     "data": {
      "image/png": "[encoded data removed]",
      "text/plain": [
       "<Figure size 640x480 with 1 Axes>"
      ]
     },
     "metadata": {},
     "output_type": "display_data"
    },
    {
     "data": {
      "image/png": "[encoded data removed]",
      "text/plain": [
       "<Figure size 640x480 with 1 Axes>"
      ]
     },
     "metadata": {},
     "output_type": "display_data"
    }
   ],
   "source": [
    "# Traza un gráfico de dispersión del número de pedidos por usuario. Haz conclusiones y conjeturas\n",
    "grouped_orders = filtered_orders.groupby('visitorid')['transactionid'].nunique().reset_index(name='order_count')\n",
    "\n",
    "x_values = pd.Series(range(0,len(grouped_orders)))\n",
    "\n",
    "plt.scatter(x_values, \n",
    "            grouped_orders['order_count'])\n",
    "plt.title('Order amount distributed by user \\n (excluding abnormal users)')\n",
    "plt.ylabel('Orders')\n",
    "plt.xlabel('Users')\n",
    "plt.yticks(np.arange(0, grouped_orders['order_count'].max()+1, step=1))\n",
    "plt.show()\n",
    "\n",
    "# Gráfico mostrando todos los valores\n",
    "x_values = pd.Series(range(0,len(filtered_orders['revenue'])))\n",
    "\n",
    "plt.scatter(x_values, \n",
    "            filtered_orders['revenue'])\n",
    "\n",
    "plt.title('Revenue distributed by user \\n (excluding abnormal users)')\n",
    "plt.ylabel('Revenue ($)')\n",
    "plt.xlabel('Users')\n",
    "plt.show()"
   ]
  },
  {
   "cell_type": "markdown",
   "metadata": {},
   "source": [
    "------------\n",
    "# 3. Conclusiones Generales"
   ]
  },
  {
   "cell_type": "markdown",
   "metadata": {},
   "source": [
    "Tras revisar el comportamiento de los grupos A y B, se puede concluir que:\n",
    "1. Los datos procesados y sin procesar revelan que la conversión de ambos grupos es significativamente distinta. Esto puede comprobarse a través de las gráficas de conversión, donde se evidencia en ambos escenarios que el grupo B presenta una tasa de conversión 0.5% mayor que la del grupo A en la mayoría de días\n",
    "2. Luego de procesar los datos se evidenció que la diferencia relativa de coversión del grupo B resepcto al A aumentó aproximadamente 6%, pasando de 12.89% a 18.10% \n",
    "3. Los datos procesados y sin procesar demostraron que no existe una diferencia significativa en el tamaño medio de pedidos\n",
    "4. La gráfica procesada de ingresos acumulados demuestra que el grupo B ha mantenido un registro de ingresos superior al del grupo A durante todo el periodo del experimento\n",
    "5. Con base en lo mencionado anteriormente, se recomienda detener el experimento pues se considera que el grupo B ha mostrado un mejor comportamiento a nivel de ingresos y tasa de conversión promedio incluso cuando el promedio de compras diarias suele ser similar o igual al del grupo A "
   ]
  }
 ],
 "metadata": {
  "ExecuteTimeLog": [
   {
    "duration": 2540,
    "start_time": "2025-02-20T22:30:31.620Z"
   },
   {
    "duration": 15,
    "start_time": "2025-02-20T22:31:37.792Z"
   },
   {
    "duration": 10,
    "start_time": "2025-02-20T22:31:48.656Z"
   },
   {
    "duration": 13,
    "start_time": "2025-02-20T22:32:12.360Z"
   },
   {
    "duration": 17,
    "start_time": "2025-02-20T22:32:23.861Z"
   },
   {
    "duration": 15,
    "start_time": "2025-02-20T22:39:55.463Z"
   },
   {
    "duration": 8,
    "start_time": "2025-02-20T22:40:24.985Z"
   },
   {
    "duration": 9,
    "start_time": "2025-02-20T22:40:29.818Z"
   },
   {
    "duration": 16,
    "start_time": "2025-02-20T22:41:47.336Z"
   },
   {
    "duration": 15,
    "start_time": "2025-02-20T22:42:19.541Z"
   },
   {
    "duration": 13,
    "start_time": "2025-02-20T22:47:06.125Z"
   },
   {
    "duration": 13,
    "start_time": "2025-02-20T22:47:47.088Z"
   },
   {
    "duration": 13,
    "start_time": "2025-02-20T22:48:37.190Z"
   },
   {
    "duration": 13,
    "start_time": "2025-02-20T22:49:00.545Z"
   },
   {
    "duration": 14,
    "start_time": "2025-02-20T22:49:43.886Z"
   },
   {
    "duration": 18,
    "start_time": "2025-02-20T23:02:30.580Z"
   },
   {
    "duration": 18,
    "start_time": "2025-02-20T23:02:32.961Z"
   },
   {
    "duration": 16,
    "start_time": "2025-02-20T23:03:08.028Z"
   },
   {
    "duration": 18,
    "start_time": "2025-02-20T23:03:10.140Z"
   },
   {
    "duration": 7,
    "start_time": "2025-02-20T23:06:18.852Z"
   },
   {
    "duration": 10,
    "start_time": "2025-02-20T23:06:32.736Z"
   },
   {
    "duration": 10,
    "start_time": "2025-02-20T23:07:14.385Z"
   },
   {
    "duration": 12,
    "start_time": "2025-02-20T23:07:56.372Z"
   },
   {
    "duration": 14,
    "start_time": "2025-02-20T23:09:23.256Z"
   },
   {
    "duration": 17,
    "start_time": "2025-02-20T23:09:56.771Z"
   },
   {
    "duration": 16,
    "start_time": "2025-02-20T23:10:05.457Z"
   },
   {
    "duration": 26,
    "start_time": "2025-02-20T23:10:14.317Z"
   },
   {
    "duration": 1614,
    "start_time": "2025-02-20T23:11:07.339Z"
   },
   {
    "duration": 810,
    "start_time": "2025-02-20T23:11:21.226Z"
   },
   {
    "duration": 17,
    "start_time": "2025-02-20T23:11:22.039Z"
   },
   {
    "duration": 15,
    "start_time": "2025-02-20T23:11:22.057Z"
   },
   {
    "duration": 31,
    "start_time": "2025-02-20T23:11:22.075Z"
   },
   {
    "duration": 15,
    "start_time": "2025-02-20T23:11:22.107Z"
   },
   {
    "duration": 13,
    "start_time": "2025-02-20T23:11:22.123Z"
   },
   {
    "duration": 27,
    "start_time": "2025-02-20T23:11:27.963Z"
   },
   {
    "duration": 18,
    "start_time": "2025-02-20T23:11:31.306Z"
   },
   {
    "duration": 21,
    "start_time": "2025-02-20T23:11:32.796Z"
   },
   {
    "duration": 1350,
    "start_time": "2025-02-20T23:11:36.998Z"
   },
   {
    "duration": 813,
    "start_time": "2025-02-20T23:11:55.231Z"
   },
   {
    "duration": 17,
    "start_time": "2025-02-20T23:11:56.047Z"
   },
   {
    "duration": 14,
    "start_time": "2025-02-20T23:11:56.067Z"
   },
   {
    "duration": 32,
    "start_time": "2025-02-20T23:11:56.083Z"
   },
   {
    "duration": 14,
    "start_time": "2025-02-20T23:11:56.117Z"
   },
   {
    "duration": 13,
    "start_time": "2025-02-20T23:11:56.133Z"
   },
   {
    "duration": 5,
    "start_time": "2025-02-20T23:14:37.368Z"
   },
   {
    "duration": 5,
    "start_time": "2025-02-20T23:14:42.043Z"
   },
   {
    "duration": 5,
    "start_time": "2025-02-20T23:15:17.635Z"
   },
   {
    "duration": 7,
    "start_time": "2025-02-20T23:15:51.095Z"
   },
   {
    "duration": 5,
    "start_time": "2025-02-20T23:16:13.131Z"
   },
   {
    "duration": 10,
    "start_time": "2025-02-20T23:16:19.791Z"
   },
   {
    "duration": 5,
    "start_time": "2025-02-20T23:16:27.443Z"
   },
   {
    "duration": 5,
    "start_time": "2025-02-20T23:16:32.165Z"
   },
   {
    "duration": 5,
    "start_time": "2025-02-20T23:16:43.106Z"
   },
   {
    "duration": 5,
    "start_time": "2025-02-20T23:16:49.171Z"
   },
   {
    "duration": 7,
    "start_time": "2025-02-20T23:16:55.628Z"
   },
   {
    "duration": 7,
    "start_time": "2025-02-20T23:17:39.687Z"
   },
   {
    "duration": 10,
    "start_time": "2025-02-20T23:18:46.835Z"
   },
   {
    "duration": 10,
    "start_time": "2025-02-20T23:18:53.512Z"
   },
   {
    "duration": 10,
    "start_time": "2025-02-20T23:19:39.682Z"
   },
   {
    "duration": 10,
    "start_time": "2025-02-20T23:20:01.811Z"
   },
   {
    "duration": 12,
    "start_time": "2025-02-20T23:20:22.414Z"
   },
   {
    "duration": 11,
    "start_time": "2025-02-20T23:20:41.526Z"
   },
   {
    "duration": 10,
    "start_time": "2025-02-20T23:23:29.648Z"
   },
   {
    "duration": 11,
    "start_time": "2025-02-20T23:24:57.052Z"
   },
   {
    "duration": 12,
    "start_time": "2025-02-20T23:25:25.086Z"
   },
   {
    "duration": 12,
    "start_time": "2025-02-20T23:25:39.519Z"
   },
   {
    "duration": 13,
    "start_time": "2025-02-20T23:26:14.809Z"
   },
   {
    "duration": 11,
    "start_time": "2025-02-20T23:26:27.232Z"
   },
   {
    "duration": 13,
    "start_time": "2025-02-20T23:26:42.567Z"
   },
   {
    "duration": 12,
    "start_time": "2025-02-20T23:27:28.909Z"
   },
   {
    "duration": 575,
    "start_time": "2025-02-20T23:28:48.445Z"
   },
   {
    "duration": 17,
    "start_time": "2025-02-20T23:29:22.606Z"
   },
   {
    "duration": 10,
    "start_time": "2025-02-20T23:29:54.530Z"
   },
   {
    "duration": 18,
    "start_time": "2025-02-20T23:30:32.665Z"
   },
   {
    "duration": 17,
    "start_time": "2025-02-20T23:30:45.783Z"
   },
   {
    "duration": 14,
    "start_time": "2025-02-20T23:31:59.022Z"
   },
   {
    "duration": 15,
    "start_time": "2025-02-20T23:32:21.133Z"
   },
   {
    "duration": 16,
    "start_time": "2025-02-20T23:32:51.411Z"
   },
   {
    "duration": 15,
    "start_time": "2025-02-20T23:33:01.901Z"
   },
   {
    "duration": 13,
    "start_time": "2025-02-20T23:33:18.513Z"
   },
   {
    "duration": 14,
    "start_time": "2025-02-20T23:33:22.376Z"
   },
   {
    "duration": 25,
    "start_time": "2025-02-20T23:35:16.141Z"
   },
   {
    "duration": 912,
    "start_time": "2025-02-20T23:35:29.813Z"
   },
   {
    "duration": 21,
    "start_time": "2025-02-20T23:35:30.729Z"
   },
   {
    "duration": 20,
    "start_time": "2025-02-20T23:35:30.753Z"
   },
   {
    "duration": 31,
    "start_time": "2025-02-20T23:35:30.775Z"
   },
   {
    "duration": 234,
    "start_time": "2025-02-20T23:35:30.808Z"
   },
   {
    "duration": 0,
    "start_time": "2025-02-20T23:35:31.044Z"
   },
   {
    "duration": 15,
    "start_time": "2025-02-20T23:35:46.724Z"
   },
   {
    "duration": 14,
    "start_time": "2025-02-20T23:36:18.827Z"
   },
   {
    "duration": 734,
    "start_time": "2025-02-20T23:36:27.694Z"
   },
   {
    "duration": 16,
    "start_time": "2025-02-20T23:36:28.431Z"
   },
   {
    "duration": 14,
    "start_time": "2025-02-20T23:36:28.449Z"
   },
   {
    "duration": 14,
    "start_time": "2025-02-20T23:36:28.464Z"
   },
   {
    "duration": 33,
    "start_time": "2025-02-20T23:36:28.480Z"
   },
   {
    "duration": 15,
    "start_time": "2025-02-20T23:36:28.515Z"
   },
   {
    "duration": 13,
    "start_time": "2025-02-20T23:37:21.283Z"
   },
   {
    "duration": 14,
    "start_time": "2025-02-20T23:37:31.716Z"
   },
   {
    "duration": 13,
    "start_time": "2025-02-20T23:38:12.464Z"
   },
   {
    "duration": 229,
    "start_time": "2025-02-20T23:38:31.437Z"
   },
   {
    "duration": 16,
    "start_time": "2025-02-20T23:38:44.355Z"
   },
   {
    "duration": 15,
    "start_time": "2025-02-20T23:39:04.447Z"
   },
   {
    "duration": 816,
    "start_time": "2025-02-20T23:39:50.221Z"
   },
   {
    "duration": 20,
    "start_time": "2025-02-20T23:39:51.040Z"
   },
   {
    "duration": 17,
    "start_time": "2025-02-20T23:39:51.061Z"
   },
   {
    "duration": 29,
    "start_time": "2025-02-20T23:39:51.081Z"
   },
   {
    "duration": 17,
    "start_time": "2025-02-20T23:39:51.111Z"
   },
   {
    "duration": 12,
    "start_time": "2025-02-20T23:39:51.130Z"
   },
   {
    "duration": 837,
    "start_time": "2025-02-20T23:40:42.419Z"
   },
   {
    "duration": 12,
    "start_time": "2025-02-20T23:40:48.979Z"
   },
   {
    "duration": 23,
    "start_time": "2025-02-20T23:41:06.898Z"
   },
   {
    "duration": 17,
    "start_time": "2025-02-20T23:41:56.755Z"
   },
   {
    "duration": 16,
    "start_time": "2025-02-20T23:43:03.644Z"
   },
   {
    "duration": 803,
    "start_time": "2025-02-20T23:43:12.130Z"
   },
   {
    "duration": 17,
    "start_time": "2025-02-20T23:43:12.935Z"
   },
   {
    "duration": 15,
    "start_time": "2025-02-20T23:43:12.953Z"
   },
   {
    "duration": 15,
    "start_time": "2025-02-20T23:43:12.969Z"
   },
   {
    "duration": 232,
    "start_time": "2025-02-20T23:43:13.006Z"
   },
   {
    "duration": 0,
    "start_time": "2025-02-20T23:43:13.240Z"
   },
   {
    "duration": 15,
    "start_time": "2025-02-20T23:43:24.468Z"
   },
   {
    "duration": 817,
    "start_time": "2025-02-20T23:43:31.027Z"
   },
   {
    "duration": 16,
    "start_time": "2025-02-20T23:43:31.847Z"
   },
   {
    "duration": 14,
    "start_time": "2025-02-20T23:43:31.865Z"
   },
   {
    "duration": 29,
    "start_time": "2025-02-20T23:43:31.881Z"
   },
   {
    "duration": 13,
    "start_time": "2025-02-20T23:43:31.911Z"
   },
   {
    "duration": 14,
    "start_time": "2025-02-20T23:43:31.927Z"
   },
   {
    "duration": 376,
    "start_time": "2025-02-20T23:44:05.078Z"
   },
   {
    "duration": 816,
    "start_time": "2025-02-20T23:44:22.030Z"
   },
   {
    "duration": 17,
    "start_time": "2025-02-20T23:44:22.848Z"
   },
   {
    "duration": 14,
    "start_time": "2025-02-20T23:44:22.866Z"
   },
   {
    "duration": 33,
    "start_time": "2025-02-20T23:44:22.882Z"
   },
   {
    "duration": 12,
    "start_time": "2025-02-20T23:44:22.918Z"
   },
   {
    "duration": 12,
    "start_time": "2025-02-20T23:44:22.932Z"
   },
   {
    "duration": 226,
    "start_time": "2025-02-20T23:44:58.355Z"
   },
   {
    "duration": 18,
    "start_time": "2025-02-20T23:45:01.810Z"
   },
   {
    "duration": 795,
    "start_time": "2025-02-20T23:45:21.760Z"
   },
   {
    "duration": 21,
    "start_time": "2025-02-20T23:45:22.557Z"
   },
   {
    "duration": 27,
    "start_time": "2025-02-20T23:45:22.580Z"
   },
   {
    "duration": 16,
    "start_time": "2025-02-20T23:45:22.611Z"
   },
   {
    "duration": 9,
    "start_time": "2025-02-20T23:45:22.629Z"
   },
   {
    "duration": 12,
    "start_time": "2025-02-20T23:45:22.639Z"
   },
   {
    "duration": 13,
    "start_time": "2025-02-20T23:45:22.653Z"
   },
   {
    "duration": 11,
    "start_time": "2025-02-20T23:45:25.901Z"
   },
   {
    "duration": 12,
    "start_time": "2025-02-20T23:45:26.752Z"
   },
   {
    "duration": 11,
    "start_time": "2025-02-20T23:45:27.401Z"
   },
   {
    "duration": 10,
    "start_time": "2025-02-20T23:46:26.208Z"
   },
   {
    "duration": 131,
    "start_time": "2025-02-20T23:46:57.782Z"
   },
   {
    "duration": 17,
    "start_time": "2025-02-20T23:47:09.989Z"
   },
   {
    "duration": 15,
    "start_time": "2025-02-20T23:47:24.334Z"
   },
   {
    "duration": 16,
    "start_time": "2025-02-20T23:47:31.194Z"
   },
   {
    "duration": 16,
    "start_time": "2025-02-20T23:47:54.468Z"
   },
   {
    "duration": 16,
    "start_time": "2025-02-20T23:48:07.966Z"
   },
   {
    "duration": 4,
    "start_time": "2025-02-20T23:49:32.202Z"
   },
   {
    "duration": 9,
    "start_time": "2025-02-20T23:49:53.638Z"
   },
   {
    "duration": 10,
    "start_time": "2025-02-20T23:50:23.703Z"
   },
   {
    "duration": 11,
    "start_time": "2025-02-20T23:51:01.392Z"
   },
   {
    "duration": 10,
    "start_time": "2025-02-20T23:51:20.094Z"
   },
   {
    "duration": 11,
    "start_time": "2025-02-20T23:51:33.762Z"
   },
   {
    "duration": 10,
    "start_time": "2025-02-20T23:51:42.975Z"
   },
   {
    "duration": 10,
    "start_time": "2025-02-20T23:51:54.461Z"
   },
   {
    "duration": 11,
    "start_time": "2025-02-20T23:52:43.027Z"
   },
   {
    "duration": 12,
    "start_time": "2025-02-20T23:52:48.358Z"
   },
   {
    "duration": 11,
    "start_time": "2025-02-20T23:52:57.998Z"
   },
   {
    "duration": 812,
    "start_time": "2025-02-20T23:54:23.086Z"
   },
   {
    "duration": 12,
    "start_time": "2025-02-20T23:55:08.513Z"
   },
   {
    "duration": 13,
    "start_time": "2025-02-20T23:55:33.539Z"
   },
   {
    "duration": 9,
    "start_time": "2025-02-20T23:56:02.149Z"
   },
   {
    "duration": 12,
    "start_time": "2025-02-20T23:56:52.754Z"
   },
   {
    "duration": 13,
    "start_time": "2025-02-20T23:58:02.183Z"
   },
   {
    "duration": 11,
    "start_time": "2025-02-20T23:58:31.673Z"
   },
   {
    "duration": 11,
    "start_time": "2025-02-20T23:59:23.953Z"
   },
   {
    "duration": 11,
    "start_time": "2025-02-20T23:59:55.978Z"
   },
   {
    "duration": 10,
    "start_time": "2025-02-21T00:00:04.695Z"
   },
   {
    "duration": 12,
    "start_time": "2025-02-21T00:01:04.439Z"
   },
   {
    "duration": 11,
    "start_time": "2025-02-21T00:01:18.451Z"
   },
   {
    "duration": 11,
    "start_time": "2025-02-21T00:01:25.793Z"
   },
   {
    "duration": 8,
    "start_time": "2025-02-21T00:01:59.202Z"
   },
   {
    "duration": 8,
    "start_time": "2025-02-21T00:02:07.695Z"
   },
   {
    "duration": 8,
    "start_time": "2025-02-21T00:02:17.441Z"
   },
   {
    "duration": 8,
    "start_time": "2025-02-21T00:02:25.182Z"
   },
   {
    "duration": 8,
    "start_time": "2025-02-21T00:02:42.509Z"
   },
   {
    "duration": 8,
    "start_time": "2025-02-21T00:02:59.670Z"
   },
   {
    "duration": 9,
    "start_time": "2025-02-21T00:03:20.782Z"
   },
   {
    "duration": 10,
    "start_time": "2025-02-21T00:03:28.223Z"
   },
   {
    "duration": 11,
    "start_time": "2025-02-21T00:03:38.527Z"
   },
   {
    "duration": 13,
    "start_time": "2025-02-21T00:03:58.959Z"
   },
   {
    "duration": 18,
    "start_time": "2025-02-21T00:04:32.499Z"
   },
   {
    "duration": 14,
    "start_time": "2025-02-21T00:04:51.748Z"
   },
   {
    "duration": 16,
    "start_time": "2025-02-21T00:05:03.159Z"
   },
   {
    "duration": 19,
    "start_time": "2025-02-21T00:06:23.756Z"
   },
   {
    "duration": 15,
    "start_time": "2025-02-21T00:06:33.868Z"
   },
   {
    "duration": 16,
    "start_time": "2025-02-21T00:06:40.879Z"
   },
   {
    "duration": 16,
    "start_time": "2025-02-21T00:06:47.630Z"
   },
   {
    "duration": 19,
    "start_time": "2025-02-21T00:07:40.548Z"
   },
   {
    "duration": 5,
    "start_time": "2025-02-21T00:09:10.870Z"
   },
   {
    "duration": 15,
    "start_time": "2025-02-21T00:09:16.459Z"
   },
   {
    "duration": 14,
    "start_time": "2025-02-21T00:09:41.146Z"
   },
   {
    "duration": 17,
    "start_time": "2025-02-21T00:10:04.069Z"
   },
   {
    "duration": 12,
    "start_time": "2025-02-21T00:10:06.242Z"
   },
   {
    "duration": 10,
    "start_time": "2025-02-21T00:11:20.777Z"
   },
   {
    "duration": 12,
    "start_time": "2025-02-21T00:12:04.094Z"
   },
   {
    "duration": 9,
    "start_time": "2025-02-21T00:12:49.926Z"
   },
   {
    "duration": 6,
    "start_time": "2025-02-21T00:12:59.802Z"
   },
   {
    "duration": 15,
    "start_time": "2025-02-21T00:13:12.284Z"
   },
   {
    "duration": 24,
    "start_time": "2025-02-21T00:16:57.899Z"
   },
   {
    "duration": 39,
    "start_time": "2025-02-21T00:17:05.485Z"
   },
   {
    "duration": 14,
    "start_time": "2025-02-21T00:17:23.946Z"
   },
   {
    "duration": 39,
    "start_time": "2025-02-21T00:17:35.932Z"
   },
   {
    "duration": 822,
    "start_time": "2025-02-21T00:17:53.734Z"
   },
   {
    "duration": 19,
    "start_time": "2025-02-21T00:17:54.559Z"
   },
   {
    "duration": 25,
    "start_time": "2025-02-21T00:17:54.580Z"
   },
   {
    "duration": 16,
    "start_time": "2025-02-21T00:17:54.607Z"
   },
   {
    "duration": 14,
    "start_time": "2025-02-21T00:17:54.625Z"
   },
   {
    "duration": 15,
    "start_time": "2025-02-21T00:17:54.641Z"
   },
   {
    "duration": 12,
    "start_time": "2025-02-21T00:17:54.658Z"
   },
   {
    "duration": 43,
    "start_time": "2025-02-21T00:17:54.672Z"
   },
   {
    "duration": 925,
    "start_time": "2025-02-21T00:18:28.846Z"
   },
   {
    "duration": 788,
    "start_time": "2025-02-21T00:18:36.456Z"
   },
   {
    "duration": 20,
    "start_time": "2025-02-21T00:18:37.247Z"
   },
   {
    "duration": 16,
    "start_time": "2025-02-21T00:18:37.269Z"
   },
   {
    "duration": 14,
    "start_time": "2025-02-21T00:18:37.304Z"
   },
   {
    "duration": 16,
    "start_time": "2025-02-21T00:18:37.321Z"
   },
   {
    "duration": 15,
    "start_time": "2025-02-21T00:18:37.338Z"
   },
   {
    "duration": 13,
    "start_time": "2025-02-21T00:18:37.355Z"
   },
   {
    "duration": 38,
    "start_time": "2025-02-21T00:18:37.370Z"
   },
   {
    "duration": 893,
    "start_time": "2025-02-21T00:19:17.514Z"
   },
   {
    "duration": 737,
    "start_time": "2025-02-21T00:19:23.603Z"
   },
   {
    "duration": 18,
    "start_time": "2025-02-21T00:19:24.343Z"
   },
   {
    "duration": 16,
    "start_time": "2025-02-21T00:19:24.364Z"
   },
   {
    "duration": 28,
    "start_time": "2025-02-21T00:19:24.382Z"
   },
   {
    "duration": 15,
    "start_time": "2025-02-21T00:19:24.413Z"
   },
   {
    "duration": 14,
    "start_time": "2025-02-21T00:19:24.430Z"
   },
   {
    "duration": 12,
    "start_time": "2025-02-21T00:19:24.446Z"
   },
   {
    "duration": 48,
    "start_time": "2025-02-21T00:19:24.460Z"
   },
   {
    "duration": 1098,
    "start_time": "2025-02-21T00:19:51.630Z"
   },
   {
    "duration": 731,
    "start_time": "2025-02-21T00:20:07.608Z"
   },
   {
    "duration": 17,
    "start_time": "2025-02-21T00:20:08.343Z"
   },
   {
    "duration": 16,
    "start_time": "2025-02-21T00:20:08.362Z"
   },
   {
    "duration": 34,
    "start_time": "2025-02-21T00:20:08.380Z"
   },
   {
    "duration": 17,
    "start_time": "2025-02-21T00:20:08.417Z"
   },
   {
    "duration": 16,
    "start_time": "2025-02-21T00:20:08.435Z"
   },
   {
    "duration": 12,
    "start_time": "2025-02-21T00:20:08.454Z"
   },
   {
    "duration": 8,
    "start_time": "2025-02-21T00:20:08.468Z"
   },
   {
    "duration": 29,
    "start_time": "2025-02-21T00:20:08.477Z"
   },
   {
    "duration": 6,
    "start_time": "2025-02-21T00:20:29.236Z"
   },
   {
    "duration": 6,
    "start_time": "2025-02-21T00:20:39.443Z"
   },
   {
    "duration": 620,
    "start_time": "2025-02-21T00:20:48.465Z"
   },
   {
    "duration": 43,
    "start_time": "2025-02-21T00:21:02.314Z"
   },
   {
    "duration": 748,
    "start_time": "2025-02-21T00:21:09.006Z"
   },
   {
    "duration": 18,
    "start_time": "2025-02-21T00:21:09.757Z"
   },
   {
    "duration": 15,
    "start_time": "2025-02-21T00:21:09.777Z"
   },
   {
    "duration": 17,
    "start_time": "2025-02-21T00:21:09.806Z"
   },
   {
    "duration": 15,
    "start_time": "2025-02-21T00:21:09.825Z"
   },
   {
    "duration": 13,
    "start_time": "2025-02-21T00:21:09.842Z"
   },
   {
    "duration": 11,
    "start_time": "2025-02-21T00:21:09.857Z"
   },
   {
    "duration": 2,
    "start_time": "2025-02-21T00:21:09.870Z"
   },
   {
    "duration": 36,
    "start_time": "2025-02-21T00:21:09.873Z"
   },
   {
    "duration": 11,
    "start_time": "2025-02-21T00:21:27.579Z"
   },
   {
    "duration": 240,
    "start_time": "2025-02-21T00:22:05.923Z"
   },
   {
    "duration": 9,
    "start_time": "2025-02-21T00:22:09.238Z"
   },
   {
    "duration": 7,
    "start_time": "2025-02-21T00:22:11.595Z"
   },
   {
    "duration": 206,
    "start_time": "2025-02-21T00:23:07.825Z"
   },
   {
    "duration": 681,
    "start_time": "2025-02-21T00:23:17.271Z"
   },
   {
    "duration": 54,
    "start_time": "2025-02-21T00:23:22.398Z"
   },
   {
    "duration": 776,
    "start_time": "2025-02-21T00:23:27.643Z"
   },
   {
    "duration": 17,
    "start_time": "2025-02-21T00:23:28.422Z"
   },
   {
    "duration": 16,
    "start_time": "2025-02-21T00:23:28.440Z"
   },
   {
    "duration": 14,
    "start_time": "2025-02-21T00:23:28.458Z"
   },
   {
    "duration": 37,
    "start_time": "2025-02-21T00:23:28.473Z"
   },
   {
    "duration": 14,
    "start_time": "2025-02-21T00:23:28.512Z"
   },
   {
    "duration": 12,
    "start_time": "2025-02-21T00:23:28.527Z"
   },
   {
    "duration": 8,
    "start_time": "2025-02-21T00:23:28.541Z"
   },
   {
    "duration": 8,
    "start_time": "2025-02-21T00:23:28.552Z"
   },
   {
    "duration": 8,
    "start_time": "2025-02-21T00:23:50.774Z"
   },
   {
    "duration": 8,
    "start_time": "2025-02-21T00:24:47.140Z"
   },
   {
    "duration": 8,
    "start_time": "2025-02-21T00:25:02.639Z"
   },
   {
    "duration": 15,
    "start_time": "2025-02-21T00:26:01.668Z"
   },
   {
    "duration": 892,
    "start_time": "2025-02-21T00:26:29.182Z"
   },
   {
    "duration": 778,
    "start_time": "2025-02-21T00:26:40.516Z"
   },
   {
    "duration": 20,
    "start_time": "2025-02-21T00:26:41.297Z"
   },
   {
    "duration": 13,
    "start_time": "2025-02-21T00:26:41.319Z"
   },
   {
    "duration": 16,
    "start_time": "2025-02-21T00:26:41.334Z"
   },
   {
    "duration": 15,
    "start_time": "2025-02-21T00:26:41.351Z"
   },
   {
    "duration": 39,
    "start_time": "2025-02-21T00:26:41.367Z"
   },
   {
    "duration": 18,
    "start_time": "2025-02-21T00:26:41.409Z"
   },
   {
    "duration": 9,
    "start_time": "2025-02-21T00:26:41.430Z"
   },
   {
    "duration": 13,
    "start_time": "2025-02-21T00:26:41.441Z"
   },
   {
    "duration": 891,
    "start_time": "2025-02-21T00:27:17.736Z"
   },
   {
    "duration": 734,
    "start_time": "2025-02-21T00:27:23.307Z"
   },
   {
    "duration": 17,
    "start_time": "2025-02-21T00:27:24.044Z"
   },
   {
    "duration": 14,
    "start_time": "2025-02-21T00:27:24.063Z"
   },
   {
    "duration": 31,
    "start_time": "2025-02-21T00:27:24.079Z"
   },
   {
    "duration": 13,
    "start_time": "2025-02-21T00:27:24.112Z"
   },
   {
    "duration": 14,
    "start_time": "2025-02-21T00:27:24.126Z"
   },
   {
    "duration": 22,
    "start_time": "2025-02-21T00:27:24.143Z"
   },
   {
    "duration": 8,
    "start_time": "2025-02-21T00:27:24.167Z"
   },
   {
    "duration": 34,
    "start_time": "2025-02-21T00:27:24.177Z"
   },
   {
    "duration": 15,
    "start_time": "2025-02-21T00:27:41.629Z"
   },
   {
    "duration": 569,
    "start_time": "2025-02-21T00:30:05.639Z"
   },
   {
    "duration": 777,
    "start_time": "2025-02-21T00:30:17.546Z"
   },
   {
    "duration": 18,
    "start_time": "2025-02-21T00:30:18.326Z"
   },
   {
    "duration": 17,
    "start_time": "2025-02-21T00:30:18.346Z"
   },
   {
    "duration": 14,
    "start_time": "2025-02-21T00:30:18.365Z"
   },
   {
    "duration": 34,
    "start_time": "2025-02-21T00:30:18.382Z"
   },
   {
    "duration": 12,
    "start_time": "2025-02-21T00:30:18.418Z"
   },
   {
    "duration": 13,
    "start_time": "2025-02-21T00:30:18.432Z"
   },
   {
    "duration": 11,
    "start_time": "2025-02-21T00:30:18.447Z"
   },
   {
    "duration": 15,
    "start_time": "2025-02-21T00:30:35.334Z"
   },
   {
    "duration": 15,
    "start_time": "2025-02-21T00:30:44.700Z"
   },
   {
    "duration": 13,
    "start_time": "2025-02-21T00:30:48.889Z"
   },
   {
    "duration": 11,
    "start_time": "2025-02-21T00:31:27.186Z"
   },
   {
    "duration": 7,
    "start_time": "2025-02-21T00:33:34.545Z"
   },
   {
    "duration": 131,
    "start_time": "2025-02-21T00:36:17.824Z"
   },
   {
    "duration": 742,
    "start_time": "2025-02-21T00:36:27.642Z"
   },
   {
    "duration": 19,
    "start_time": "2025-02-21T00:36:28.387Z"
   },
   {
    "duration": 15,
    "start_time": "2025-02-21T00:36:28.407Z"
   },
   {
    "duration": 14,
    "start_time": "2025-02-21T00:36:28.424Z"
   },
   {
    "duration": 14,
    "start_time": "2025-02-21T00:36:28.440Z"
   },
   {
    "duration": 13,
    "start_time": "2025-02-21T00:36:28.455Z"
   },
   {
    "duration": 45,
    "start_time": "2025-02-21T00:36:28.470Z"
   },
   {
    "duration": 147,
    "start_time": "2025-02-21T00:36:28.517Z"
   },
   {
    "duration": 16,
    "start_time": "2025-02-21T00:36:39.874Z"
   },
   {
    "duration": 17,
    "start_time": "2025-02-21T00:37:50.726Z"
   },
   {
    "duration": 23,
    "start_time": "2025-02-21T00:39:28.646Z"
   },
   {
    "duration": 26,
    "start_time": "2025-02-21T00:40:50.819Z"
   },
   {
    "duration": 763,
    "start_time": "2025-02-21T00:40:57.211Z"
   },
   {
    "duration": 17,
    "start_time": "2025-02-21T00:40:57.977Z"
   },
   {
    "duration": 20,
    "start_time": "2025-02-21T00:40:57.996Z"
   },
   {
    "duration": 14,
    "start_time": "2025-02-21T00:40:58.018Z"
   },
   {
    "duration": 22,
    "start_time": "2025-02-21T00:40:58.034Z"
   },
   {
    "duration": 14,
    "start_time": "2025-02-21T00:40:58.057Z"
   },
   {
    "duration": 43,
    "start_time": "2025-02-21T00:40:58.072Z"
   },
   {
    "duration": 2,
    "start_time": "2025-02-21T00:40:58.117Z"
   },
   {
    "duration": 9,
    "start_time": "2025-02-21T00:42:42.953Z"
   },
   {
    "duration": 16,
    "start_time": "2025-02-21T00:45:44.002Z"
   },
   {
    "duration": 131,
    "start_time": "2025-02-21T00:46:31.022Z"
   },
   {
    "duration": 794,
    "start_time": "2025-02-21T00:46:41.945Z"
   },
   {
    "duration": 16,
    "start_time": "2025-02-21T00:46:42.741Z"
   },
   {
    "duration": 14,
    "start_time": "2025-02-21T00:46:42.759Z"
   },
   {
    "duration": 36,
    "start_time": "2025-02-21T00:46:42.775Z"
   },
   {
    "duration": 24,
    "start_time": "2025-02-21T00:46:42.812Z"
   },
   {
    "duration": 14,
    "start_time": "2025-02-21T00:46:42.837Z"
   },
   {
    "duration": 14,
    "start_time": "2025-02-21T00:46:42.852Z"
   },
   {
    "duration": 161,
    "start_time": "2025-02-21T00:46:42.868Z"
   },
   {
    "duration": 13,
    "start_time": "2025-02-21T00:47:18.957Z"
   },
   {
    "duration": 267,
    "start_time": "2025-02-21T00:48:48.253Z"
   },
   {
    "duration": 747,
    "start_time": "2025-02-21T00:48:54.689Z"
   },
   {
    "duration": 17,
    "start_time": "2025-02-21T00:48:55.440Z"
   },
   {
    "duration": 14,
    "start_time": "2025-02-21T00:48:55.458Z"
   },
   {
    "duration": 32,
    "start_time": "2025-02-21T00:48:55.474Z"
   },
   {
    "duration": 25,
    "start_time": "2025-02-21T00:48:55.509Z"
   },
   {
    "duration": 14,
    "start_time": "2025-02-21T00:48:55.536Z"
   },
   {
    "duration": 14,
    "start_time": "2025-02-21T00:48:55.552Z"
   },
   {
    "duration": 37,
    "start_time": "2025-02-21T00:48:55.568Z"
   },
   {
    "duration": 15,
    "start_time": "2025-02-21T00:49:34.271Z"
   },
   {
    "duration": 11,
    "start_time": "2025-02-21T00:49:46.633Z"
   },
   {
    "duration": 13,
    "start_time": "2025-02-21T00:49:51.081Z"
   },
   {
    "duration": 12,
    "start_time": "2025-02-21T00:50:12.256Z"
   },
   {
    "duration": 13,
    "start_time": "2025-02-21T00:51:01.358Z"
   },
   {
    "duration": 12,
    "start_time": "2025-02-21T00:51:16.677Z"
   },
   {
    "duration": 16,
    "start_time": "2025-02-21T00:51:28.505Z"
   },
   {
    "duration": 790,
    "start_time": "2025-02-21T01:14:39.223Z"
   },
   {
    "duration": 69,
    "start_time": "2025-02-21T01:14:57.132Z"
   },
   {
    "duration": 747,
    "start_time": "2025-02-21T01:15:13.161Z"
   },
   {
    "duration": 17,
    "start_time": "2025-02-21T01:15:13.911Z"
   },
   {
    "duration": 14,
    "start_time": "2025-02-21T01:15:13.929Z"
   },
   {
    "duration": 16,
    "start_time": "2025-02-21T01:15:13.946Z"
   },
   {
    "duration": 43,
    "start_time": "2025-02-21T01:15:13.963Z"
   },
   {
    "duration": 15,
    "start_time": "2025-02-21T01:15:14.007Z"
   },
   {
    "duration": 13,
    "start_time": "2025-02-21T01:15:14.024Z"
   },
   {
    "duration": 15,
    "start_time": "2025-02-21T01:15:14.039Z"
   },
   {
    "duration": 850,
    "start_time": "2025-02-21T01:15:14.056Z"
   },
   {
    "duration": 0,
    "start_time": "2025-02-21T01:15:14.908Z"
   },
   {
    "duration": 0,
    "start_time": "2025-02-21T01:15:14.909Z"
   },
   {
    "duration": 0,
    "start_time": "2025-02-21T01:15:14.911Z"
   },
   {
    "duration": 0,
    "start_time": "2025-02-21T01:15:14.911Z"
   },
   {
    "duration": 0,
    "start_time": "2025-02-21T01:15:14.912Z"
   },
   {
    "duration": 0,
    "start_time": "2025-02-21T01:15:14.913Z"
   },
   {
    "duration": 0,
    "start_time": "2025-02-21T01:15:14.914Z"
   },
   {
    "duration": 76,
    "start_time": "2025-02-21T01:16:41.691Z"
   },
   {
    "duration": 6,
    "start_time": "2025-02-21T01:20:41.268Z"
   },
   {
    "duration": 130,
    "start_time": "2025-02-21T01:20:59.851Z"
   },
   {
    "duration": 220,
    "start_time": "2025-02-21T01:24:14.250Z"
   },
   {
    "duration": 353,
    "start_time": "2025-02-21T01:26:53.236Z"
   },
   {
    "duration": 999,
    "start_time": "2025-02-21T01:28:11.717Z"
   },
   {
    "duration": 365,
    "start_time": "2025-02-21T01:28:27.906Z"
   },
   {
    "duration": 348,
    "start_time": "2025-02-21T01:28:41.705Z"
   },
   {
    "duration": 354,
    "start_time": "2025-02-21T01:29:05.277Z"
   },
   {
    "duration": 496,
    "start_time": "2025-02-21T01:29:28.911Z"
   },
   {
    "duration": 207,
    "start_time": "2025-02-21T01:31:01.920Z"
   },
   {
    "duration": 212,
    "start_time": "2025-02-21T01:32:30.534Z"
   },
   {
    "duration": 343,
    "start_time": "2025-02-21T01:33:57.779Z"
   },
   {
    "duration": 316,
    "start_time": "2025-02-21T01:34:05.568Z"
   },
   {
    "duration": 338,
    "start_time": "2025-02-21T01:34:28.105Z"
   },
   {
    "duration": 323,
    "start_time": "2025-02-21T01:34:57.658Z"
   },
   {
    "duration": 333,
    "start_time": "2025-02-21T01:35:29.124Z"
   },
   {
    "duration": 348,
    "start_time": "2025-02-21T01:36:46.514Z"
   },
   {
    "duration": 347,
    "start_time": "2025-02-21T01:36:53.082Z"
   },
   {
    "duration": 353,
    "start_time": "2025-02-21T01:37:22.857Z"
   },
   {
    "duration": 340,
    "start_time": "2025-02-21T01:44:35.103Z"
   },
   {
    "duration": 143,
    "start_time": "2025-02-21T01:45:18.285Z"
   },
   {
    "duration": 145,
    "start_time": "2025-02-21T01:47:14.152Z"
   },
   {
    "duration": 144,
    "start_time": "2025-02-21T01:47:37.402Z"
   },
   {
    "duration": 13,
    "start_time": "2025-02-21T01:52:56.985Z"
   },
   {
    "duration": 134,
    "start_time": "2025-02-21T01:53:44.702Z"
   },
   {
    "duration": 154,
    "start_time": "2025-02-21T01:54:22.300Z"
   },
   {
    "duration": 143,
    "start_time": "2025-02-21T01:54:29.461Z"
   },
   {
    "duration": 148,
    "start_time": "2025-02-21T01:55:18.338Z"
   },
   {
    "duration": 146,
    "start_time": "2025-02-21T01:55:25.174Z"
   },
   {
    "duration": 141,
    "start_time": "2025-02-21T01:56:15.621Z"
   },
   {
    "duration": 152,
    "start_time": "2025-02-21T01:56:43.208Z"
   },
   {
    "duration": 240,
    "start_time": "2025-02-21T01:56:46.843Z"
   },
   {
    "duration": 222,
    "start_time": "2025-02-21T01:56:59.888Z"
   },
   {
    "duration": 270,
    "start_time": "2025-02-21T01:57:05.827Z"
   },
   {
    "duration": 9,
    "start_time": "2025-02-21T02:05:17.226Z"
   },
   {
    "duration": 11,
    "start_time": "2025-02-21T02:05:34.402Z"
   },
   {
    "duration": 164,
    "start_time": "2025-02-21T02:09:21.650Z"
   },
   {
    "duration": 157,
    "start_time": "2025-02-21T02:10:02.090Z"
   },
   {
    "duration": 2611,
    "start_time": "2025-02-22T23:59:55.043Z"
   },
   {
    "duration": 22,
    "start_time": "2025-02-22T23:59:57.657Z"
   },
   {
    "duration": 40,
    "start_time": "2025-02-22T23:59:57.680Z"
   },
   {
    "duration": 18,
    "start_time": "2025-02-22T23:59:57.721Z"
   },
   {
    "duration": 23,
    "start_time": "2025-02-22T23:59:57.741Z"
   },
   {
    "duration": 17,
    "start_time": "2025-02-22T23:59:57.766Z"
   },
   {
    "duration": 13,
    "start_time": "2025-02-22T23:59:57.785Z"
   },
   {
    "duration": 23,
    "start_time": "2025-02-22T23:59:57.799Z"
   },
   {
    "duration": 391,
    "start_time": "2025-02-22T23:59:57.824Z"
   },
   {
    "duration": 159,
    "start_time": "2025-02-22T23:59:58.217Z"
   },
   {
    "duration": 264,
    "start_time": "2025-02-22T23:59:58.378Z"
   },
   {
    "duration": 188,
    "start_time": "2025-02-22T23:59:58.644Z"
   },
   {
    "duration": 3,
    "start_time": "2025-02-22T23:59:58.834Z"
   },
   {
    "duration": 3,
    "start_time": "2025-02-22T23:59:58.839Z"
   },
   {
    "duration": 3,
    "start_time": "2025-02-22T23:59:58.843Z"
   },
   {
    "duration": 3,
    "start_time": "2025-02-22T23:59:58.848Z"
   },
   {
    "duration": 11,
    "start_time": "2025-02-23T00:00:18.711Z"
   },
   {
    "duration": 10,
    "start_time": "2025-02-23T00:03:04.649Z"
   },
   {
    "duration": 11,
    "start_time": "2025-02-23T00:03:44.907Z"
   },
   {
    "duration": 233,
    "start_time": "2025-02-23T00:05:14.916Z"
   },
   {
    "duration": 579,
    "start_time": "2025-02-23T00:05:27.676Z"
   },
   {
    "duration": 137,
    "start_time": "2025-02-23T00:05:47.984Z"
   },
   {
    "duration": 294,
    "start_time": "2025-02-23T00:06:17.218Z"
   },
   {
    "duration": 418,
    "start_time": "2025-02-23T00:06:54.311Z"
   },
   {
    "duration": 95,
    "start_time": "2025-02-23T00:07:30.278Z"
   },
   {
    "duration": 240,
    "start_time": "2025-02-23T00:08:00.703Z"
   },
   {
    "duration": 110,
    "start_time": "2025-02-23T00:09:12.907Z"
   },
   {
    "duration": 106,
    "start_time": "2025-02-23T00:09:25.841Z"
   },
   {
    "duration": 116,
    "start_time": "2025-02-23T00:10:01.167Z"
   },
   {
    "duration": 254,
    "start_time": "2025-02-23T00:10:25.407Z"
   },
   {
    "duration": 970,
    "start_time": "2025-02-23T00:11:41.363Z"
   },
   {
    "duration": 118,
    "start_time": "2025-02-23T00:11:52.841Z"
   },
   {
    "duration": 132,
    "start_time": "2025-02-23T00:12:03.751Z"
   },
   {
    "duration": 4,
    "start_time": "2025-02-23T00:14:35.264Z"
   },
   {
    "duration": 22,
    "start_time": "2025-02-23T00:14:59.491Z"
   },
   {
    "duration": 15,
    "start_time": "2025-02-23T00:15:05.127Z"
   },
   {
    "duration": 4,
    "start_time": "2025-02-23T00:15:17.361Z"
   },
   {
    "duration": 4,
    "start_time": "2025-02-23T00:15:35.124Z"
   },
   {
    "duration": 15,
    "start_time": "2025-02-23T00:15:40.317Z"
   },
   {
    "duration": 4,
    "start_time": "2025-02-23T00:15:47.761Z"
   },
   {
    "duration": 4,
    "start_time": "2025-02-23T00:22:25.575Z"
   },
   {
    "duration": 5,
    "start_time": "2025-02-23T00:22:33.743Z"
   },
   {
    "duration": 4,
    "start_time": "2025-02-23T00:22:42.541Z"
   },
   {
    "duration": 5,
    "start_time": "2025-02-23T00:22:52.726Z"
   },
   {
    "duration": 4,
    "start_time": "2025-02-23T00:23:28.524Z"
   },
   {
    "duration": 5,
    "start_time": "2025-02-23T00:23:43.563Z"
   },
   {
    "duration": 4,
    "start_time": "2025-02-23T00:24:04.996Z"
   },
   {
    "duration": 5,
    "start_time": "2025-02-23T00:24:08.799Z"
   },
   {
    "duration": 4,
    "start_time": "2025-02-23T00:24:13.305Z"
   },
   {
    "duration": 4,
    "start_time": "2025-02-23T00:24:18.813Z"
   },
   {
    "duration": 6,
    "start_time": "2025-02-23T00:24:45.393Z"
   },
   {
    "duration": 4,
    "start_time": "2025-02-23T00:24:54.242Z"
   },
   {
    "duration": 4,
    "start_time": "2025-02-23T00:25:00.977Z"
   },
   {
    "duration": 4,
    "start_time": "2025-02-23T00:25:42.411Z"
   },
   {
    "duration": 5,
    "start_time": "2025-02-23T00:26:37.480Z"
   },
   {
    "duration": 5,
    "start_time": "2025-02-23T00:27:03.431Z"
   },
   {
    "duration": 3,
    "start_time": "2025-02-23T00:27:32.331Z"
   },
   {
    "duration": 4,
    "start_time": "2025-02-23T00:27:48.508Z"
   },
   {
    "duration": 11,
    "start_time": "2025-02-23T00:28:17.006Z"
   },
   {
    "duration": 9,
    "start_time": "2025-02-23T00:29:24.699Z"
   },
   {
    "duration": 10,
    "start_time": "2025-02-23T00:29:34.511Z"
   },
   {
    "duration": 46064,
    "start_time": "2025-02-23T00:30:37.338Z"
   },
   {
    "duration": 748,
    "start_time": "2025-02-23T00:31:53.375Z"
   },
   {
    "duration": 18,
    "start_time": "2025-02-23T00:31:54.126Z"
   },
   {
    "duration": 14,
    "start_time": "2025-02-23T00:31:54.146Z"
   },
   {
    "duration": 31,
    "start_time": "2025-02-23T00:31:54.162Z"
   },
   {
    "duration": 21,
    "start_time": "2025-02-23T00:31:54.197Z"
   },
   {
    "duration": 15,
    "start_time": "2025-02-23T00:31:54.220Z"
   },
   {
    "duration": 13,
    "start_time": "2025-02-23T00:31:54.237Z"
   },
   {
    "duration": 43,
    "start_time": "2025-02-23T00:31:54.252Z"
   },
   {
    "duration": 373,
    "start_time": "2025-02-23T00:31:54.297Z"
   },
   {
    "duration": 162,
    "start_time": "2025-02-23T00:31:54.671Z"
   },
   {
    "duration": 247,
    "start_time": "2025-02-23T00:31:54.834Z"
   },
   {
    "duration": 162,
    "start_time": "2025-02-23T00:31:55.087Z"
   },
   {
    "duration": 175,
    "start_time": "2025-02-23T00:31:55.251Z"
   },
   {
    "duration": 4,
    "start_time": "2025-02-23T00:31:55.429Z"
   },
   {
    "duration": 28392,
    "start_time": "2025-02-23T00:31:55.435Z"
   },
   {
    "duration": 0,
    "start_time": "2025-02-23T00:32:23.829Z"
   },
   {
    "duration": 779,
    "start_time": "2025-02-23T00:33:33.638Z"
   },
   {
    "duration": 17,
    "start_time": "2025-02-23T00:33:34.420Z"
   },
   {
    "duration": 14,
    "start_time": "2025-02-23T00:33:34.439Z"
   },
   {
    "duration": 32,
    "start_time": "2025-02-23T00:33:34.455Z"
   },
   {
    "duration": 22,
    "start_time": "2025-02-23T00:33:34.489Z"
   },
   {
    "duration": 15,
    "start_time": "2025-02-23T00:33:34.512Z"
   },
   {
    "duration": 14,
    "start_time": "2025-02-23T00:33:34.529Z"
   },
   {
    "duration": 43,
    "start_time": "2025-02-23T00:33:34.544Z"
   },
   {
    "duration": 364,
    "start_time": "2025-02-23T00:33:34.589Z"
   },
   {
    "duration": 159,
    "start_time": "2025-02-23T00:33:34.955Z"
   },
   {
    "duration": 253,
    "start_time": "2025-02-23T00:33:35.115Z"
   },
   {
    "duration": 173,
    "start_time": "2025-02-23T00:33:35.369Z"
   },
   {
    "duration": 172,
    "start_time": "2025-02-23T00:33:35.544Z"
   },
   {
    "duration": 4,
    "start_time": "2025-02-23T00:33:35.718Z"
   },
   {
    "duration": 57111,
    "start_time": "2025-02-23T00:33:35.724Z"
   },
   {
    "duration": 0,
    "start_time": "2025-02-23T00:34:32.837Z"
   },
   {
    "duration": 15,
    "start_time": "2025-02-23T00:35:04.980Z"
   },
   {
    "duration": 784,
    "start_time": "2025-02-23T00:35:20.332Z"
   },
   {
    "duration": 17,
    "start_time": "2025-02-23T00:35:21.119Z"
   },
   {
    "duration": 14,
    "start_time": "2025-02-23T00:35:21.138Z"
   },
   {
    "duration": 34,
    "start_time": "2025-02-23T00:35:21.153Z"
   },
   {
    "duration": 22,
    "start_time": "2025-02-23T00:35:21.189Z"
   },
   {
    "duration": 14,
    "start_time": "2025-02-23T00:35:21.212Z"
   },
   {
    "duration": 13,
    "start_time": "2025-02-23T00:35:21.228Z"
   },
   {
    "duration": 43,
    "start_time": "2025-02-23T00:35:21.244Z"
   },
   {
    "duration": 371,
    "start_time": "2025-02-23T00:35:21.289Z"
   },
   {
    "duration": 159,
    "start_time": "2025-02-23T00:35:21.662Z"
   },
   {
    "duration": 239,
    "start_time": "2025-02-23T00:35:21.823Z"
   },
   {
    "duration": 165,
    "start_time": "2025-02-23T00:35:22.063Z"
   },
   {
    "duration": 176,
    "start_time": "2025-02-23T00:35:22.230Z"
   },
   {
    "duration": 3,
    "start_time": "2025-02-23T00:35:22.410Z"
   },
   {
    "duration": 2,
    "start_time": "2025-02-23T00:35:22.416Z"
   },
   {
    "duration": 5,
    "start_time": "2025-02-23T00:35:22.421Z"
   },
   {
    "duration": 5,
    "start_time": "2025-02-23T00:35:56.857Z"
   },
   {
    "duration": 118,
    "start_time": "2025-02-23T00:36:15.113Z"
   },
   {
    "duration": 238,
    "start_time": "2025-02-23T00:38:27.619Z"
   },
   {
    "duration": 238,
    "start_time": "2025-02-23T00:39:20.324Z"
   },
   {
    "duration": 216,
    "start_time": "2025-02-23T00:54:26.259Z"
   },
   {
    "duration": 10,
    "start_time": "2025-02-23T00:54:30.435Z"
   },
   {
    "duration": 8,
    "start_time": "2025-02-23T00:54:35.353Z"
   },
   {
    "duration": 10,
    "start_time": "2025-02-23T00:54:50.065Z"
   },
   {
    "duration": 11,
    "start_time": "2025-02-23T00:55:00.398Z"
   },
   {
    "duration": 119,
    "start_time": "2025-02-23T00:56:42.592Z"
   },
   {
    "duration": 29,
    "start_time": "2025-02-23T00:56:45.458Z"
   },
   {
    "duration": 27,
    "start_time": "2025-02-23T00:57:02.816Z"
   },
   {
    "duration": 11,
    "start_time": "2025-02-23T00:57:12.304Z"
   },
   {
    "duration": 80,
    "start_time": "2025-02-23T00:59:30.576Z"
   },
   {
    "duration": 20,
    "start_time": "2025-02-23T01:00:21.238Z"
   },
   {
    "duration": 16,
    "start_time": "2025-02-23T01:00:40.042Z"
   },
   {
    "duration": 18,
    "start_time": "2025-02-23T01:01:31.428Z"
   },
   {
    "duration": 11,
    "start_time": "2025-02-23T01:01:44.187Z"
   },
   {
    "duration": 15,
    "start_time": "2025-02-23T01:05:35.386Z"
   },
   {
    "duration": 25,
    "start_time": "2025-02-23T01:06:12.708Z"
   },
   {
    "duration": 38,
    "start_time": "2025-02-23T01:07:11.003Z"
   },
   {
    "duration": 36,
    "start_time": "2025-02-23T01:07:17.615Z"
   },
   {
    "duration": 5,
    "start_time": "2025-02-23T01:08:54.259Z"
   },
   {
    "duration": 24,
    "start_time": "2025-02-23T01:09:20.300Z"
   },
   {
    "duration": 25,
    "start_time": "2025-02-23T01:09:25.598Z"
   },
   {
    "duration": 7,
    "start_time": "2025-02-23T01:09:31.550Z"
   },
   {
    "duration": 5,
    "start_time": "2025-02-23T01:09:39.737Z"
   },
   {
    "duration": 38,
    "start_time": "2025-02-23T01:09:50.946Z"
   },
   {
    "duration": 36,
    "start_time": "2025-02-23T01:10:30.069Z"
   },
   {
    "duration": 49,
    "start_time": "2025-02-23T01:10:36.152Z"
   },
   {
    "duration": 5,
    "start_time": "2025-02-23T01:10:43.660Z"
   },
   {
    "duration": 35,
    "start_time": "2025-02-23T01:11:00.387Z"
   },
   {
    "duration": 37,
    "start_time": "2025-02-23T01:11:22.329Z"
   },
   {
    "duration": 36,
    "start_time": "2025-02-23T01:12:01.118Z"
   },
   {
    "duration": 37,
    "start_time": "2025-02-23T01:13:22.055Z"
   },
   {
    "duration": 36,
    "start_time": "2025-02-23T01:13:37.414Z"
   },
   {
    "duration": 37,
    "start_time": "2025-02-23T01:18:08.339Z"
   },
   {
    "duration": 35,
    "start_time": "2025-02-23T01:18:12.762Z"
   },
   {
    "duration": 36,
    "start_time": "2025-02-23T01:18:28.192Z"
   },
   {
    "duration": 37,
    "start_time": "2025-02-23T01:18:33.260Z"
   },
   {
    "duration": 12,
    "start_time": "2025-02-23T01:19:28.370Z"
   },
   {
    "duration": 11,
    "start_time": "2025-02-23T01:19:36.721Z"
   },
   {
    "duration": 16,
    "start_time": "2025-02-23T01:19:52.608Z"
   },
   {
    "duration": 15,
    "start_time": "2025-02-23T01:20:09.231Z"
   },
   {
    "duration": 43,
    "start_time": "2025-02-23T01:20:54.017Z"
   },
   {
    "duration": 36,
    "start_time": "2025-02-23T01:21:19.172Z"
   },
   {
    "duration": 36,
    "start_time": "2025-02-23T01:21:28.213Z"
   },
   {
    "duration": 49,
    "start_time": "2025-02-23T01:21:50.429Z"
   },
   {
    "duration": 38,
    "start_time": "2025-02-23T01:22:03.566Z"
   },
   {
    "duration": 47,
    "start_time": "2025-02-23T01:25:17.420Z"
   },
   {
    "duration": 47,
    "start_time": "2025-02-23T01:25:33.067Z"
   },
   {
    "duration": 46,
    "start_time": "2025-02-23T01:29:04.532Z"
   },
   {
    "duration": 70,
    "start_time": "2025-02-23T01:29:37.808Z"
   },
   {
    "duration": 47,
    "start_time": "2025-02-23T01:32:47.430Z"
   },
   {
    "duration": 48,
    "start_time": "2025-02-23T01:32:59.267Z"
   },
   {
    "duration": 48,
    "start_time": "2025-02-23T01:33:08.659Z"
   },
   {
    "duration": 11,
    "start_time": "2025-02-23T01:37:17.112Z"
   },
   {
    "duration": 10,
    "start_time": "2025-02-23T01:39:23.247Z"
   },
   {
    "duration": 10,
    "start_time": "2025-02-23T01:40:18.515Z"
   },
   {
    "duration": 11,
    "start_time": "2025-02-23T01:40:38.567Z"
   },
   {
    "duration": 10,
    "start_time": "2025-02-23T01:40:56.584Z"
   },
   {
    "duration": 48,
    "start_time": "2025-02-23T01:42:10.337Z"
   },
   {
    "duration": 12,
    "start_time": "2025-02-23T01:42:12.527Z"
   },
   {
    "duration": 4,
    "start_time": "2025-02-23T01:49:00.885Z"
   },
   {
    "duration": 4,
    "start_time": "2025-02-23T01:49:07.058Z"
   },
   {
    "duration": 491,
    "start_time": "2025-02-23T01:51:00.053Z"
   },
   {
    "duration": 18,
    "start_time": "2025-02-23T01:51:14.241Z"
   },
   {
    "duration": 115,
    "start_time": "2025-02-23T01:51:21.592Z"
   },
   {
    "duration": 23,
    "start_time": "2025-02-23T01:52:59.207Z"
   },
   {
    "duration": 25,
    "start_time": "2025-02-23T01:53:24.981Z"
   },
   {
    "duration": 24,
    "start_time": "2025-02-23T01:53:46.556Z"
   },
   {
    "duration": 23,
    "start_time": "2025-02-23T01:54:23.904Z"
   },
   {
    "duration": 24,
    "start_time": "2025-02-23T01:55:10.487Z"
   },
   {
    "duration": 8,
    "start_time": "2025-02-23T01:58:40.723Z"
   },
   {
    "duration": 8,
    "start_time": "2025-02-23T01:58:48.391Z"
   },
   {
    "duration": 9,
    "start_time": "2025-02-23T01:58:54.817Z"
   },
   {
    "duration": 22,
    "start_time": "2025-02-23T01:59:46.932Z"
   },
   {
    "duration": 253,
    "start_time": "2025-02-23T02:00:23.077Z"
   },
   {
    "duration": 21,
    "start_time": "2025-02-23T02:00:33.918Z"
   },
   {
    "duration": 49,
    "start_time": "2025-02-23T02:00:48.677Z"
   },
   {
    "duration": 12,
    "start_time": "2025-02-23T02:01:03.518Z"
   },
   {
    "duration": 13,
    "start_time": "2025-02-23T02:01:11.979Z"
   },
   {
    "duration": 12,
    "start_time": "2025-02-23T02:01:26.071Z"
   },
   {
    "duration": 7,
    "start_time": "2025-02-23T02:01:40.801Z"
   },
   {
    "duration": 43,
    "start_time": "2025-02-23T02:05:03.213Z"
   },
   {
    "duration": 47,
    "start_time": "2025-02-23T02:08:15.440Z"
   },
   {
    "duration": 12,
    "start_time": "2025-02-23T02:08:26.872Z"
   },
   {
    "duration": 13,
    "start_time": "2025-02-23T02:08:37.743Z"
   },
   {
    "duration": 12,
    "start_time": "2025-02-23T02:09:04.668Z"
   },
   {
    "duration": 42,
    "start_time": "2025-02-23T02:10:02.314Z"
   },
   {
    "duration": 11,
    "start_time": "2025-02-23T02:16:13.875Z"
   },
   {
    "duration": 96,
    "start_time": "2025-02-23T02:34:15.114Z"
   },
   {
    "duration": 353,
    "start_time": "2025-02-23T02:35:28.400Z"
   },
   {
    "duration": 314,
    "start_time": "2025-02-23T02:36:52.527Z"
   },
   {
    "duration": 348,
    "start_time": "2025-02-23T02:37:16.930Z"
   },
   {
    "duration": 362,
    "start_time": "2025-02-23T02:38:07.282Z"
   },
   {
    "duration": 749,
    "start_time": "2025-02-23T02:40:06.273Z"
   },
   {
    "duration": 893,
    "start_time": "2025-02-23T02:42:16.543Z"
   },
   {
    "duration": 667,
    "start_time": "2025-02-23T02:42:48.332Z"
   },
   {
    "duration": 659,
    "start_time": "2025-02-23T02:44:07.196Z"
   },
   {
    "duration": 655,
    "start_time": "2025-02-23T02:44:23.652Z"
   },
   {
    "duration": 752,
    "start_time": "2025-02-23T02:48:55.775Z"
   },
   {
    "duration": 662,
    "start_time": "2025-02-23T02:49:13.388Z"
   },
   {
    "duration": 186,
    "start_time": "2025-02-23T02:49:51.733Z"
   },
   {
    "duration": 201,
    "start_time": "2025-02-23T02:50:21.290Z"
   },
   {
    "duration": 4,
    "start_time": "2025-02-23T02:56:40.575Z"
   },
   {
    "duration": 755,
    "start_time": "2025-02-23T03:20:09.666Z"
   },
   {
    "duration": 18,
    "start_time": "2025-02-23T03:20:10.423Z"
   },
   {
    "duration": 16,
    "start_time": "2025-02-23T03:20:10.442Z"
   },
   {
    "duration": 35,
    "start_time": "2025-02-23T03:20:10.461Z"
   },
   {
    "duration": 24,
    "start_time": "2025-02-23T03:20:10.499Z"
   },
   {
    "duration": 16,
    "start_time": "2025-02-23T03:20:10.524Z"
   },
   {
    "duration": 45,
    "start_time": "2025-02-23T03:20:10.542Z"
   },
   {
    "duration": 15,
    "start_time": "2025-02-23T03:20:10.589Z"
   },
   {
    "duration": 397,
    "start_time": "2025-02-23T03:20:10.606Z"
   },
   {
    "duration": 161,
    "start_time": "2025-02-23T03:20:11.007Z"
   },
   {
    "duration": 249,
    "start_time": "2025-02-23T03:20:11.170Z"
   },
   {
    "duration": 171,
    "start_time": "2025-02-23T03:20:11.421Z"
   },
   {
    "duration": 173,
    "start_time": "2025-02-23T03:20:11.594Z"
   },
   {
    "duration": 5,
    "start_time": "2025-02-23T03:20:11.769Z"
   },
   {
    "duration": 251,
    "start_time": "2025-02-23T03:20:11.787Z"
   },
   {
    "duration": 6,
    "start_time": "2025-02-23T03:20:12.040Z"
   },
   {
    "duration": 63,
    "start_time": "2025-02-23T03:20:12.048Z"
   },
   {
    "duration": 12,
    "start_time": "2025-02-23T03:20:12.113Z"
   },
   {
    "duration": 151,
    "start_time": "2025-02-23T03:20:12.127Z"
   },
   {
    "duration": 49,
    "start_time": "2025-02-23T03:20:12.280Z"
   },
   {
    "duration": 12,
    "start_time": "2025-02-23T03:20:12.331Z"
   },
   {
    "duration": 687,
    "start_time": "2025-02-23T03:20:12.345Z"
   },
   {
    "duration": 238,
    "start_time": "2025-02-23T03:20:13.035Z"
   },
   {
    "duration": 737,
    "start_time": "2025-02-23T03:49:18.117Z"
   },
   {
    "duration": 27,
    "start_time": "2025-02-23T03:49:18.857Z"
   },
   {
    "duration": 14,
    "start_time": "2025-02-23T03:49:18.886Z"
   },
   {
    "duration": 25,
    "start_time": "2025-02-23T03:49:18.901Z"
   },
   {
    "duration": 23,
    "start_time": "2025-02-23T03:49:18.927Z"
   },
   {
    "duration": 16,
    "start_time": "2025-02-23T03:49:18.951Z"
   },
   {
    "duration": 13,
    "start_time": "2025-02-23T03:49:18.969Z"
   },
   {
    "duration": 37,
    "start_time": "2025-02-23T03:49:18.983Z"
   },
   {
    "duration": 389,
    "start_time": "2025-02-23T03:49:19.021Z"
   },
   {
    "duration": 157,
    "start_time": "2025-02-23T03:49:19.414Z"
   },
   {
    "duration": 237,
    "start_time": "2025-02-23T03:49:19.572Z"
   },
   {
    "duration": 164,
    "start_time": "2025-02-23T03:49:19.811Z"
   },
   {
    "duration": 176,
    "start_time": "2025-02-23T03:49:19.977Z"
   },
   {
    "duration": 3,
    "start_time": "2025-02-23T03:49:20.156Z"
   },
   {
    "duration": 245,
    "start_time": "2025-02-23T03:49:20.160Z"
   },
   {
    "duration": 3,
    "start_time": "2025-02-23T03:49:20.407Z"
   },
   {
    "duration": 46,
    "start_time": "2025-02-23T03:49:20.413Z"
   },
   {
    "duration": 10,
    "start_time": "2025-02-23T03:49:20.461Z"
   },
   {
    "duration": 159,
    "start_time": "2025-02-23T03:49:20.473Z"
   },
   {
    "duration": 42,
    "start_time": "2025-02-23T03:49:20.634Z"
   },
   {
    "duration": 10,
    "start_time": "2025-02-23T03:49:20.677Z"
   },
   {
    "duration": 669,
    "start_time": "2025-02-23T03:49:20.708Z"
   },
   {
    "duration": 200,
    "start_time": "2025-02-23T03:49:21.378Z"
   },
   {
    "duration": 798,
    "start_time": "2025-02-23T03:52:22.044Z"
   },
   {
    "duration": 17,
    "start_time": "2025-02-23T03:52:22.844Z"
   },
   {
    "duration": 14,
    "start_time": "2025-02-23T03:52:22.863Z"
   },
   {
    "duration": 30,
    "start_time": "2025-02-23T03:52:22.879Z"
   },
   {
    "duration": 21,
    "start_time": "2025-02-23T03:52:22.911Z"
   },
   {
    "duration": 14,
    "start_time": "2025-02-23T03:52:22.933Z"
   },
   {
    "duration": 13,
    "start_time": "2025-02-23T03:52:22.948Z"
   },
   {
    "duration": 14,
    "start_time": "2025-02-23T03:52:22.963Z"
   },
   {
    "duration": 356,
    "start_time": "2025-02-23T03:52:23.009Z"
   },
   {
    "duration": 158,
    "start_time": "2025-02-23T03:52:23.367Z"
   },
   {
    "duration": 259,
    "start_time": "2025-02-23T03:52:23.526Z"
   },
   {
    "duration": 168,
    "start_time": "2025-02-23T03:52:23.787Z"
   },
   {
    "duration": 167,
    "start_time": "2025-02-23T03:52:23.958Z"
   },
   {
    "duration": 4,
    "start_time": "2025-02-23T03:52:24.127Z"
   },
   {
    "duration": 252,
    "start_time": "2025-02-23T03:52:24.132Z"
   },
   {
    "duration": 4,
    "start_time": "2025-02-23T03:52:24.386Z"
   },
   {
    "duration": 59,
    "start_time": "2025-02-23T03:52:24.391Z"
   },
   {
    "duration": 11,
    "start_time": "2025-02-23T03:52:24.451Z"
   },
   {
    "duration": 147,
    "start_time": "2025-02-23T03:52:24.464Z"
   },
   {
    "duration": 41,
    "start_time": "2025-02-23T03:52:24.612Z"
   },
   {
    "duration": 10,
    "start_time": "2025-02-23T03:52:24.654Z"
   },
   {
    "duration": 682,
    "start_time": "2025-02-23T03:52:24.666Z"
   },
   {
    "duration": 204,
    "start_time": "2025-02-23T03:52:25.350Z"
   }
  ],
  "kernelspec": {
   "display_name": "Python 3 (ipykernel)",
   "language": "python",
   "name": "python3"
  },
  "language_info": {
   "codemirror_mode": {
    "name": "ipython",
    "version": 3
   },
   "file_extension": ".py",
   "mimetype": "text/x-python",
   "name": "python",
   "nbconvert_exporter": "python",
   "pygments_lexer": "ipython3",
   "version": "3.9.19"
  },
  "toc": {
   "base_numbering": 1,
   "nav_menu": {},
   "number_sections": true,
   "sideBar": true,
   "skip_h1_title": true,
   "title_cell": "Table of Contents",
   "title_sidebar": "Contents",
   "toc_cell": false,
   "toc_position": {},
   "toc_section_display": true,
   "toc_window_display": false
  }
 },
 "nbformat": 4,
 "nbformat_minor": 2
}
